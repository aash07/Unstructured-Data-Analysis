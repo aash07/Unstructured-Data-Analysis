{
 "cells": [
  {
   "cell_type": "markdown",
   "metadata": {},
   "source": [
    "# Introduction to Speech Recognition in Python"
   ]
  },
  {
   "cell_type": "markdown",
   "metadata": {},
   "source": [
    "APIs\n",
    "- Google API\n",
    "- Bing\n",
    "- IBM\n",
    "- Sphinx\n",
    "- ...."
   ]
  },
  {
   "cell_type": "code",
   "execution_count": 14,
   "metadata": {},
   "outputs": [
    {
     "name": "stdout",
     "output_type": "stream",
     "text": [
      "Requirement already satisfied: SpeechRecognition in c:\\programdata\\anaconda3\\lib\\site-packages (3.8.1)\n"
     ]
    }
   ],
   "source": [
    "# Speech to text\n",
    "!pip install SpeechRecognition "
   ]
  },
  {
   "cell_type": "code",
   "execution_count": 8,
   "metadata": {},
   "outputs": [
    {
     "name": "stdout",
     "output_type": "stream",
     "text": [
      "Requirement already satisfied: pydub in c:\\programdata\\anaconda3\\lib\\site-packages (0.23.1)\n"
     ]
    }
   ],
   "source": [
    "# For converting mp3 to wav format\n",
    "!pip install pydub"
   ]
  },
  {
   "cell_type": "code",
   "execution_count": 9,
   "metadata": {},
   "outputs": [
    {
     "data": {
      "text/plain": [
       "'3.8.1'"
      ]
     },
     "execution_count": 9,
     "metadata": {},
     "output_type": "execute_result"
    }
   ],
   "source": [
    "import speech_recognition as sr\n",
    "from pydub import AudioSegment\n",
    "sr.__version__"
   ]
  },
  {
   "cell_type": "markdown",
   "metadata": {},
   "source": [
    "### Download data\n",
    "https://www.bbc.co.uk/programmes/p02nq0lx/episodes/downloads"
   ]
  },
  {
   "cell_type": "markdown",
   "metadata": {},
   "source": [
    "### Convert MP3 file to wav file\n",
    "- Setting up ffmpeg\n",
    "    - Download & Extract the zip fle https://ffmpeg.zeranoe.com/builds/\n",
    "    - Copy ffmpeg.exe and ffprobe.exe in to the working directory of Jupyter Notebook"
   ]
  },
  {
   "cell_type": "code",
   "execution_count": 10,
   "metadata": {},
   "outputs": [
    {
     "data": {
      "text/plain": [
       "<_io.BufferedRandom name='ALifeAlone.wav'>"
      ]
     },
     "execution_count": 10,
     "metadata": {},
     "output_type": "execute_result"
    }
   ],
   "source": [
    "sound = AudioSegment.from_mp3('ALifeAlone.mp3')\n",
    "audio_wav_path = 'ALifeAlone.wav'\n",
    "sound.export(audio_wav_path, format='wav')"
   ]
  },
  {
   "cell_type": "code",
   "execution_count": 11,
   "metadata": {},
   "outputs": [],
   "source": [
    "documentary = sr.AudioFile(audio_wav_path)\n",
    "r = sr.Recognizer()"
   ]
  },
  {
   "cell_type": "code",
   "execution_count": 12,
   "metadata": {},
   "outputs": [],
   "source": [
    "with documentary as source:\n",
    "    audio = r.record(source, offset=0, duration=20)"
   ]
  },
  {
   "cell_type": "code",
   "execution_count": 13,
   "metadata": {},
   "outputs": [
    {
     "data": {
      "text/plain": [
       "\"thank you for standard English program for the BBC weather like in this is a life alone it's acceleration of leguminous conversation with one woman 194 adorned Diana\""
      ]
     },
     "execution_count": 13,
     "metadata": {},
     "output_type": "execute_result"
    }
   ],
   "source": [
    "r.recognize_google(audio)"
   ]
  },
  {
   "cell_type": "code",
   "execution_count": 6,
   "metadata": {},
   "outputs": [
    {
     "name": "stdout",
     "output_type": "stream",
     "text": [
      "thank you for standard English program for the BBC weather like in this is a life alone its acceleration 11 mins\n",
      "one woman 194 wouldn't Diana\n",
      "aur sunao\n",
      "office of an American\n",
      "who is born in 1924 in London\n",
      "then I came in my core and Sofia on my mother\n",
      "favourite when you come to this is very small and the most amazing thing why is\n",
      "writing Canada's making a pipe\n",
      "news for 20 60\n",
      "main 94 years old now my own time and I am trying to recover only inside can from the album my family\n"
     ]
    }
   ],
   "source": [
    "duration = 10 \n",
    "final_script = '' \n",
    "for i in range(10):\n",
    "    with documentary as source:\n",
    "        audio = r.record(source, offset=i*duration, duration=duration)\n",
    "        curr_script = r.recognize_google(audio)\n",
    "        print(curr_script)\n",
    "        final_script = final_script + ' ' + curr_script"
   ]
  },
  {
   "cell_type": "code",
   "execution_count": 7,
   "metadata": {},
   "outputs": [
    {
     "data": {
      "text/plain": [
       "\" thank you for standard English program for the BBC weather like in this is a life alone its acceleration 11 mins one woman 194 wouldn't Diana aur sunao office of an American who is born in 1924 in London then I came in my core and Sofia on my mother favourite when you come to this is very small and the most amazing thing why is writing Canada's making a pipe news for 20 60 main 94 years old now my own time and I am trying to recover only inside can from the album my family\""
      ]
     },
     "execution_count": 7,
     "metadata": {},
     "output_type": "execute_result"
    }
   ],
   "source": [
    "final_script"
   ]
  },
  {
   "cell_type": "markdown",
   "metadata": {},
   "source": [
    "### Write back to text file"
   ]
  },
  {
   "cell_type": "code",
   "execution_count": 8,
   "metadata": {},
   "outputs": [],
   "source": [
    "f = open('documentary.txt', \"w+\")\n",
    "f.write(final_script)\n",
    "f.close()"
   ]
  }
 ],
 "metadata": {
  "kernelspec": {
   "display_name": "Python 3",
   "language": "python",
   "name": "python3"
  },
  "language_info": {
   "codemirror_mode": {
    "name": "ipython",
    "version": 3
   },
   "file_extension": ".py",
   "mimetype": "text/x-python",
   "name": "python",
   "nbconvert_exporter": "python",
   "pygments_lexer": "ipython3",
   "version": "3.7.3"
  }
 },
 "nbformat": 4,
 "nbformat_minor": 2
}
