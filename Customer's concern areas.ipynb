{
 "cells": [
  {
   "cell_type": "markdown",
   "metadata": {},
   "source": [
    "# Customer's concern areas (Using Python)"
   ]
  },
  {
   "cell_type": "code",
   "execution_count": 1,
   "metadata": {},
   "outputs": [],
   "source": [
    "%matplotlib inline\n",
    "import nltk\n",
    "import pandas as pd\n",
    "import numpy as np\n",
    "from sklearn.feature_extraction.text import CountVectorizer"
   ]
  },
  {
   "cell_type": "markdown",
   "metadata": {},
   "source": [
    "### Cusomter's concern areas\n",
    "- Extract bigrams\n",
    "- Identify negative words\n",
    "- Extract bigrams containing negative words"
   ]
  },
  {
   "cell_type": "markdown",
   "metadata": {},
   "source": [
    "### Clean data at sentence level"
   ]
  },
  {
   "cell_type": "code",
   "execution_count": 2,
   "metadata": {},
   "outputs": [],
   "source": [
    "reviews = pd.read_csv('amazon_reviews.csv')"
   ]
  },
  {
   "cell_type": "code",
   "execution_count": 3,
   "metadata": {},
   "outputs": [
    {
     "data": {
      "text/plain": [
       "(999, 10)"
      ]
     },
     "execution_count": 3,
     "metadata": {},
     "output_type": "execute_result"
    }
   ],
   "source": [
    "reviews.shape"
   ]
  },
  {
   "cell_type": "code",
   "execution_count": 4,
   "metadata": {},
   "outputs": [],
   "source": [
    "text_col = reviews['reviewText']\n",
    "\n",
    "text_col = text_col.fillna(' ').str.lower()\n",
    "\n",
    "text_col = text_col.str.replace('[^a-z ]', '')\n",
    "\n",
    "stop_words = nltk.corpus.stopwords.words('english')\n",
    "custom_stop_words = ['get', 'would', 'told']\n",
    "stop_words.extend(custom_stop_words)"
   ]
  },
  {
   "cell_type": "markdown",
   "metadata": {},
   "source": [
    "#### Get back sentence by joining words"
   ]
  },
  {
   "cell_type": "code",
   "execution_count": 5,
   "metadata": {},
   "outputs": [
    {
     "data": {
      "text/plain": [
       "'got gps husband otr road trucker impressed shipping time arrived days earlier expected within week use however started freezing could glitch unit worked great worked work great normal person well trucker option big truck routes tells scale coming ect love bigger screen ease use ease putting addresses memory nothing really bad say unit exception freezing probably one million thats luck contacted seller within minutes email received email back instructions exchange impressed way around'"
      ]
     },
     "execution_count": 5,
     "metadata": {},
     "output_type": "execute_result"
    }
   ],
   "source": [
    "docs_clean = []\n",
    "for row in text_col:\n",
    "    words = np.array(nltk.word_tokenize(row))\n",
    "    words = [word for word in words if word not in stop_words]\n",
    "    docs_clean.append(' '.join(words))\n",
    "docs_clean[0]"
   ]
  },
  {
   "cell_type": "markdown",
   "metadata": {},
   "source": [
    "### Build Corpus"
   ]
  },
  {
   "cell_type": "code",
   "execution_count": 6,
   "metadata": {},
   "outputs": [],
   "source": [
    "model = CountVectorizer(ngram_range=(2,2)) # Create a model\n",
    "sparse_matrix = model.fit_transform(docs_clean) # Fit the data to the model"
   ]
  },
  {
   "cell_type": "code",
   "execution_count": 7,
   "metadata": {},
   "outputs": [
    {
     "data": {
      "text/plain": [
       "<matplotlib.axes._subplots.AxesSubplot at 0x1d0db156160>"
      ]
     },
     "execution_count": 7,
     "metadata": {},
     "output_type": "execute_result"
    },
    {
     "data": {
      "image/png": "[encoded data removed]",
      "text/plain": [
       "<Figure size 1440x360 with 1 Axes>"
      ]
     },
     "metadata": {
      "needs_background": "light"
     },
     "output_type": "display_data"
    }
   ],
   "source": [
    "dtm = pd.DataFrame(sparse_matrix.toarray(), columns=model.get_feature_names())\n",
    "\n",
    "dtm.sum().sort_values(ascending=False).head(25).plot.bar(figsize=(20,5)) "
   ]
  },
  {
   "cell_type": "code",
   "execution_count": 8,
   "metadata": {},
   "outputs": [
    {
     "data": {
      "text/plain": [
       "Index(['aaa batteries', 'aac soundtracks', 'abandoning normal',\n",
       "       'abilities aware', 'abilities full', 'abilities screen',\n",
       "       'abilities stripped', 'ability add', 'ability books', 'ability borrow'],\n",
       "      dtype='object')"
      ]
     },
     "execution_count": 8,
     "metadata": {},
     "output_type": "execute_result"
    }
   ],
   "source": [
    "bigrams = dtm.columns\n",
    "bigrams[:10]"
   ]
  },
  {
   "cell_type": "code",
   "execution_count": null,
   "metadata": {},
   "outputs": [],
   "source": []
  },
  {
   "cell_type": "code",
   "execution_count": 9,
   "metadata": {},
   "outputs": [],
   "source": [
    "negative_words = ['poor', 'waste', 'bad',\n",
    "                   'defective', 'disgusting', 'untrusty',\n",
    "                   'worst', 'horrible', 'unexpectedly','slow','horrible']"
   ]
  },
  {
   "cell_type": "code",
   "execution_count": 10,
   "metadata": {},
   "outputs": [],
   "source": [
    "bigrams_imp = []\n",
    "for bigram in bigrams:\n",
    "    words = bigram.split(' ')\n",
    "    if sum(np.in1d(words, negative_words))>=1:\n",
    "        bigrams_imp.append(bigram)"
   ]
  },
  {
   "cell_type": "code",
   "execution_count": 15,
   "metadata": {},
   "outputs": [
    {
     "data": {
      "text/plain": [
       "0"
      ]
     },
     "execution_count": 15,
     "metadata": {},
     "output_type": "execute_result"
    }
   ],
   "source": [
    "sum(np.in1d(['amazing','camera'],negative_words))"
   ]
  },
  {
   "cell_type": "code",
   "execution_count": 14,
   "metadata": {},
   "outputs": [
    {
     "data": {
      "text/plain": [
       "263"
      ]
     },
     "execution_count": 14,
     "metadata": {},
     "output_type": "execute_result"
    }
   ],
   "source": [
    "len(bigrams_imp)"
   ]
  },
  {
   "cell_type": "code",
   "execution_count": 17,
   "metadata": {},
   "outputs": [
    {
     "data": {
      "text/plain": [
       "['absolute waste',\n",
       " 'apps poor',\n",
       " 'bad allcons',\n",
       " 'bad anything',\n",
       " 'bad book',\n",
       " 'bad boys',\n",
       " 'bad burning',\n",
       " 'bad buy',\n",
       " 'bad called',\n",
       " 'bad cell']"
      ]
     },
     "execution_count": 17,
     "metadata": {},
     "output_type": "execute_result"
    }
   ],
   "source": [
    "bigrams_imp[:10]"
   ]
  },
  {
   "cell_type": "code",
   "execution_count": 18,
   "metadata": {},
   "outputs": [],
   "source": [
    "dtm_subset = dtm[bigrams_imp]"
   ]
  },
  {
   "cell_type": "code",
   "execution_count": 16,
   "metadata": {},
   "outputs": [
    {
     "data": {
      "text/plain": [
       "(999, 263)"
      ]
     },
     "execution_count": 16,
     "metadata": {},
     "output_type": "execute_result"
    }
   ],
   "source": [
    "dtm_subset.shape"
   ]
  },
  {
   "cell_type": "code",
   "execution_count": 19,
   "metadata": {},
   "outputs": [
    {
     "data": {
      "text/plain": [
       "waste money                 6\n",
       "isnt bad                    5\n",
       "slow respond                4\n",
       "bad really                  3\n",
       "bad reviews                 3\n",
       "bad say                     3\n",
       "little slow                 3\n",
       "poor contrast               3\n",
       "poor customer               2\n",
       "bad experience              2\n",
       "screen slow                 2\n",
       "bad unit                    2\n",
       "bad thing                   2\n",
       "excruciatingly slow         2\n",
       "os horrible                 2\n",
       "bit slow                    2\n",
       "bad nook                    2\n",
       "slow clunky                 2\n",
       "nothing bad                 2\n",
       "defective nook              2\n",
       "pretty poor                 2\n",
       "responsibility defective    2\n",
       "time slow                   2\n",
       "good bad                    2\n",
       "incredibly slow             2\n",
       "poor quality                2\n",
       "go bad                      2\n",
       "bad buy                     2\n",
       "going bad                   2\n",
       "defective kept              1\n",
       "dtype: int64"
      ]
     },
     "execution_count": 19,
     "metadata": {},
     "output_type": "execute_result"
    }
   ],
   "source": [
    "dtm_subset.sum().sort_values(ascending=False).head(30)"
   ]
  }
 ],
 "metadata": {
  "kernelspec": {
   "display_name": "Python 3",
   "language": "python",
   "name": "python3"
  },
  "language_info": {
   "codemirror_mode": {
    "name": "ipython",
    "version": 3
   },
   "file_extension": ".py",
   "mimetype": "text/x-python",
   "name": "python",
   "nbconvert_exporter": "python",
   "pygments_lexer": "ipython3",
   "version": "3.7.3"
  }
 },
 "nbformat": 4,
 "nbformat_minor": 2
}
