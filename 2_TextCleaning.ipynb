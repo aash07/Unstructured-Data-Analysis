{
 "cells": [
  {
   "cell_type": "markdown",
   "metadata": {},
   "source": [
    "#### Text cleaning techniques\n",
    "- Normalizing text: case normalization\n",
    "- tokenize: taking the smallest part of the text\n",
    "    - word_tokenize()\n",
    "    - wordpunct_tokenize()\n",
    "    - tweettokenizer\n",
    "    - regexp_tokenize\n",
    "- removing stop words and punctuation\n",
    "- stemming and lemmetization -> takes the word to its root form\n"
   ]
  },
  {
   "cell_type": "markdown",
   "metadata": {},
   "source": [
    "### Case Normalization"
   ]
  },
  {
   "cell_type": "code",
   "execution_count": 1,
   "metadata": {},
   "outputs": [
    {
     "data": {
      "text/plain": [
       "'good but need updates and improvements,worst mobile i have bought ever'"
      ]
     },
     "execution_count": 1,
     "metadata": {},
     "output_type": "execute_result"
    }
   ],
   "source": [
    "txt = \"Good but need updates and improvements,Worst mobile i have bought ever\"\n",
    "text = txt.lower()\n",
    "text"
   ]
  },
  {
   "cell_type": "markdown",
   "metadata": {},
   "source": [
    "### Tokenization\n",
    "- words or pair of words\n",
    "- sentences\n",
    "- paragraphs"
   ]
  },
  {
   "cell_type": "code",
   "execution_count": 7,
   "metadata": {},
   "outputs": [
    {
     "name": "stdout",
     "output_type": "stream",
     "text": [
      "['Text', 'messaging,', 'or', 'texting,', 'is', 'the', 'act', 'of', 'composing', 'and', 'sending', 'electronic', 'messages', \"aren't\"]\n"
     ]
    }
   ],
   "source": [
    "txt = \"Text messaging, or texting, is the act of composing and sending electronic messages aren't\"\n",
    "print(txt.split())"
   ]
  },
  {
   "cell_type": "code",
   "execution_count": 5,
   "metadata": {},
   "outputs": [],
   "source": [
    "from nltk.tokenize import word_tokenize"
   ]
  },
  {
   "cell_type": "code",
   "execution_count": 8,
   "metadata": {},
   "outputs": [
    {
     "name": "stdout",
     "output_type": "stream",
     "text": [
      "['Text', 'messaging', ',', 'or', 'texting', ',', 'is', 'the', 'act', 'of', 'composing', 'and', 'sending', 'electronic', 'messages', 'are', \"n't\"]\n"
     ]
    }
   ],
   "source": [
    "print(word_tokenize(txt))"
   ]
  },
  {
   "cell_type": "code",
   "execution_count": 10,
   "metadata": {},
   "outputs": [],
   "source": [
    "from nltk.tokenize import wordpunct_tokenize"
   ]
  },
  {
   "cell_type": "code",
   "execution_count": 12,
   "metadata": {},
   "outputs": [
    {
     "name": "stdout",
     "output_type": "stream",
     "text": [
      "['Text', 'messaging', ',', 'or', 'texting', ',', 'is', 'the', 'act', 'of', 'composing', 'and', 'sending', 'electronic', 'messages', 'aren', \"'\", 't']\n"
     ]
    }
   ],
   "source": [
    "print(wordpunct_tokenize(txt))"
   ]
  },
  {
   "cell_type": "code",
   "execution_count": 13,
   "metadata": {},
   "outputs": [
    {
     "name": "stdout",
     "output_type": "stream",
     "text": [
      "1 ['lamo', '#', 'killing', 'it', ',', 'hzv', 'L', '>', 'hfah', '-', '>', 'hshs', ',', 'sjhg', 'kjf', '.', 'huahuh', ';', '@', 'hshak']\n",
      "2 ['lamo', '#', 'killing', 'it', ',', 'hzv', 'L', '>', 'hfah', '-', '>', 'hshs', ',', 'sjhg', 'kjf', '.', 'huahuh', ';', '@', 'hshak']\n"
     ]
    }
   ],
   "source": [
    "txt = \"lamo #killing it, hzv L>hfah - > hshs,sjhg kjf. huahuh; @hshak\"\n",
    "print('1',word_tokenize(txt))\n",
    "print('2',wordpunct_tokenize(txt))"
   ]
  },
  {
   "cell_type": "code",
   "execution_count": 14,
   "metadata": {},
   "outputs": [],
   "source": [
    "from nltk.tokenize import TweetTokenizer"
   ]
  },
  {
   "cell_type": "code",
   "execution_count": 15,
   "metadata": {},
   "outputs": [],
   "source": [
    "token = TweetTokenizer()"
   ]
  },
  {
   "cell_type": "code",
   "execution_count": 16,
   "metadata": {},
   "outputs": [
    {
     "name": "stdout",
     "output_type": "stream",
     "text": [
      "['lamo', '#killing', 'it', ',', 'hzv', 'L', '>', 'hfah', '-', '>', 'hshs', ',', 'sjhg', 'kjf', '.', 'huahuh', ';', '@hshak']\n"
     ]
    }
   ],
   "source": [
    "print(token.tokenize(txt))"
   ]
  },
  {
   "cell_type": "code",
   "execution_count": 17,
   "metadata": {},
   "outputs": [],
   "source": [
    "txt = \"living life king size #chilling # lifegoals #yayyy #wanderlust\"\n"
   ]
  },
  {
   "cell_type": "code",
   "execution_count": 18,
   "metadata": {},
   "outputs": [],
   "source": [
    "from nltk.tokenize import regexp_tokenize"
   ]
  },
  {
   "cell_type": "code",
   "execution_count": 20,
   "metadata": {},
   "outputs": [
    {
     "name": "stdout",
     "output_type": "stream",
     "text": [
      "['#chilling', '#yayyy', '#wanderlust']\n",
      "['chilling', 'yayyy', 'wanderlust']\n"
     ]
    }
   ],
   "source": [
    "# extract all hashtags and words\n",
    "print(regexp_tokenize(txt,'#[\\w]+'))\n",
    "# extract all words of hashtags but not hash\n",
    "print(regexp_tokenize(txt,'#([\\w]+)'))"
   ]
  },
  {
   "cell_type": "code",
   "execution_count": 23,
   "metadata": {},
   "outputs": [],
   "source": [
    "from string import punctuation"
   ]
  },
  {
   "cell_type": "code",
   "execution_count": 24,
   "metadata": {},
   "outputs": [],
   "source": [
    "from nltk.corpus import stopwords"
   ]
  },
  {
   "cell_type": "code",
   "execution_count": 25,
   "metadata": {},
   "outputs": [],
   "source": [
    "stop_nltk = stopwords.words(\"english\")"
   ]
  },
  {
   "cell_type": "code",
   "execution_count": 26,
   "metadata": {
    "scrolled": false
   },
   "outputs": [
    {
     "name": "stdout",
     "output_type": "stream",
     "text": [
      "['i', 'me', 'my', 'myself', 'we', 'our', 'ours', 'ourselves', 'you', \"you're\", \"you've\", \"you'll\", \"you'd\", 'your', 'yours', 'yourself', 'yourselves', 'he', 'him', 'his', 'himself', 'she', \"she's\", 'her', 'hers', 'herself', 'it', \"it's\", 'its', 'itself', 'they', 'them', 'their', 'theirs', 'themselves', 'what', 'which', 'who', 'whom', 'this', 'that', \"that'll\", 'these', 'those', 'am', 'is', 'are', 'was', 'were', 'be', 'been', 'being', 'have', 'has', 'had', 'having', 'do', 'does', 'did', 'doing', 'a', 'an', 'the', 'and', 'but', 'if', 'or', 'because', 'as', 'until', 'while', 'of', 'at', 'by', 'for', 'with', 'about', 'against', 'between', 'into', 'through', 'during', 'before', 'after', 'above', 'below', 'to', 'from', 'up', 'down', 'in', 'out', 'on', 'off', 'over', 'under', 'again', 'further', 'then', 'once', 'here', 'there', 'when', 'where', 'why', 'how', 'all', 'any', 'both', 'each', 'few', 'more', 'most', 'other', 'some', 'such', 'no', 'nor', 'not', 'only', 'own', 'same', 'so', 'than', 'too', 'very', 's', 't', 'can', 'will', 'just', 'don', \"don't\", 'should', \"should've\", 'now', 'd', 'll', 'm', 'o', 're', 've', 'y', 'ain', 'aren', \"aren't\", 'couldn', \"couldn't\", 'didn', \"didn't\", 'doesn', \"doesn't\", 'hadn', \"hadn't\", 'hasn', \"hasn't\", 'haven', \"haven't\", 'isn', \"isn't\", 'ma', 'mightn', \"mightn't\", 'mustn', \"mustn't\", 'needn', \"needn't\", 'shan', \"shan't\", 'shouldn', \"shouldn't\", 'wasn', \"wasn't\", 'weren', \"weren't\", 'won', \"won't\", 'wouldn', \"wouldn't\"]\n"
     ]
    }
   ],
   "source": [
    "print(stop_nltk)"
   ]
  },
  {
   "cell_type": "code",
   "execution_count": 27,
   "metadata": {},
   "outputs": [
    {
     "name": "stdout",
     "output_type": "stream",
     "text": [
      "['!', '\"', '#', '$', '%', '&', \"'\", '(', ')', '*', '+', ',', '-', '.', '/', ':', ';', '<', '=', '>', '?', '@', '[', '\\\\', ']', '^', '_', '`', '{', '|', '}', '~']\n"
     ]
    }
   ],
   "source": [
    "print(list(punctuation))"
   ]
  },
  {
   "cell_type": "code",
   "execution_count": 31,
   "metadata": {},
   "outputs": [],
   "source": [
    "txt = \"aha akhkhn jajij. ja ahuah, gayuyg\"\n",
    "tok = word_tokenize(txt.lower())"
   ]
  },
  {
   "cell_type": "code",
   "execution_count": 32,
   "metadata": {},
   "outputs": [
    {
     "data": {
      "text/plain": [
       "['aha', 'akhkhn', 'jajij', 'ja', 'ahuah', 'gayuyg']"
      ]
     },
     "execution_count": 32,
     "metadata": {},
     "output_type": "execute_result"
    }
   ],
   "source": [
    "[word for word in tok if word not in stop_nltk and word not in list(punctuation)]"
   ]
  },
  {
   "cell_type": "markdown",
   "metadata": {},
   "source": [
    "### Stemming\n",
    "- it takes the word to its root form\n",
    "- its rule based technique which just removes the suffixes\n",
    "- the stemmed word might not be part of the dictionary\n",
    "#### 2 types of stemming\n",
    "- porter stemmer >> oldest and legacy stemmer developed in 1979\n",
    "- snowball stemmer >> sophasticated stemmer, faster and supports multiple languages"
   ]
  },
  {
   "cell_type": "code",
   "execution_count": 34,
   "metadata": {},
   "outputs": [],
   "source": [
    "from nltk.stem import PorterStemmer, SnowballStemmer"
   ]
  },
  {
   "cell_type": "code",
   "execution_count": 35,
   "metadata": {},
   "outputs": [],
   "source": [
    "stemmer_p = PorterStemmer()"
   ]
  },
  {
   "cell_type": "code",
   "execution_count": 36,
   "metadata": {},
   "outputs": [
    {
     "data": {
      "text/plain": [
       "'drive'"
      ]
     },
     "execution_count": 36,
     "metadata": {},
     "output_type": "execute_result"
    }
   ],
   "source": [
    "stemmer_p.stem(\"driving\")"
   ]
  },
  {
   "cell_type": "code",
   "execution_count": 39,
   "metadata": {},
   "outputs": [],
   "source": [
    "txt = \"Text messaging, or texting, is the act of composing and sending electronic messages, typically consisting of alphabetic and numeric characters, between two or more users of mobile devices, desktops/laptops, or other type of compatible computer.\"\n",
    "tok = word_tokenize(txt.lower())"
   ]
  },
  {
   "cell_type": "code",
   "execution_count": 40,
   "metadata": {},
   "outputs": [
    {
     "name": "stdout",
     "output_type": "stream",
     "text": [
      "['text', 'messag', ',', 'or', 'text', ',', 'is', 'the', 'act', 'of', 'compos', 'and', 'send', 'electron', 'messag', ',', 'typic', 'consist', 'of', 'alphabet', 'and', 'numer', 'charact', ',', 'between', 'two', 'or', 'more', 'user', 'of', 'mobil', 'devic', ',', 'desktops/laptop', ',', 'or', 'other', 'type', 'of', 'compat', 'comput', '.']\n"
     ]
    }
   ],
   "source": [
    "print([stemmer_p.stem(word) for word in tok])"
   ]
  },
  {
   "cell_type": "code",
   "execution_count": 58,
   "metadata": {},
   "outputs": [
    {
     "name": "stdout",
     "output_type": "stream",
     "text": [
      "['he', 'is', 'veri', 'method', 'and', 'orderli', 'in', 'hi', 'execut']\n"
     ]
    }
   ],
   "source": [
    "txt = \"he is very methodical and orderly in his execution\"\n",
    "tok = word_tokenize(txt.lower())\n",
    "print([stemmer_p.stem(word) for word in tok]) # it doesn't take in dictionary form, its just chop off"
   ]
  },
  {
   "cell_type": "code",
   "execution_count": 42,
   "metadata": {},
   "outputs": [],
   "source": [
    "stemmer_s = SnowballStemmer(\"english\")"
   ]
  },
  {
   "cell_type": "code",
   "execution_count": 43,
   "metadata": {},
   "outputs": [
    {
     "name": "stdout",
     "output_type": "stream",
     "text": [
      "['he', 'is', 'veri', 'method', 'and', 'order', 'in', 'his', 'execut']\n"
     ]
    }
   ],
   "source": [
    "print([stemmer_s.stem(word) for word in tok])"
   ]
  },
  {
   "cell_type": "code",
   "execution_count": 44,
   "metadata": {},
   "outputs": [
    {
     "name": "stdout",
     "output_type": "stream",
     "text": [
      "PorterStemmer ['studi', 'studi', 'cri', 'cri', 'hi', 'execut']\n",
      "SnowballStemmer ['studi', 'studyy', 'cri', 'cri', 'his', 'execut']\n"
     ]
    }
   ],
   "source": [
    "txt = \"studies studyying cries cry his execute\"\n",
    "tok = word_tokenize(txt.lower())\n",
    "print('PorterStemmer',[stemmer_p.stem(word) for word in tok])\n",
    "print('SnowballStemmer',[stemmer_s.stem(word) for word in tok])"
   ]
  },
  {
   "cell_type": "code",
   "execution_count": 45,
   "metadata": {},
   "outputs": [
    {
     "name": "stdout",
     "output_type": "stream",
     "text": [
      "PorterStemmer ['studi', 'studi', 'cri', 'cri', 'hi', 'execut', 'orderli', 'univers', 'univers']\n",
      "SnowballStemmer ['studi', 'studi', 'cri', 'cri', 'his', 'execut', 'order', 'univers', 'univers']\n"
     ]
    }
   ],
   "source": [
    "text = \"studies studying cries cry his execute orderly university universal\"\n",
    "token = word_tokenize(text.lower())\n",
    "print('PorterStemmer',[stemmer_p.stem(word) for word in token])\n",
    "print('SnowballStemmer',[stemmer_s.stem(word) for word in token])"
   ]
  },
  {
   "cell_type": "markdown",
   "metadata": {},
   "source": [
    "#### Lemmatization:\n",
    "- like stemming, lemmitization takes the word to the root from called as lemma\n",
    "- it involves resolving words to their dictionary from\n",
    "- Alemma of a word is its dictionary form or canonical form\n",
    "- lemmetizer in NLTK uses WordNet data set which comprises a list of synonyms\n"
   ]
  },
  {
   "cell_type": "code",
   "execution_count": 47,
   "metadata": {},
   "outputs": [],
   "source": [
    "from nltk.stem import WordNetLemmatizer"
   ]
  },
  {
   "cell_type": "code",
   "execution_count": 48,
   "metadata": {},
   "outputs": [],
   "source": [
    "lemm= WordNetLemmatizer()"
   ]
  },
  {
   "cell_type": "code",
   "execution_count": 51,
   "metadata": {},
   "outputs": [
    {
     "name": "stdout",
     "output_type": "stream",
     "text": [
      "['he', 'is', 'very', 'methodical', 'and', 'orderly', 'in', 'his', 'execution']\n"
     ]
    }
   ],
   "source": [
    "txt = \"he is very methodical and orderly in his execution\"\n",
    "tok = word_tokenize(txt.lower())\n",
    "print(tok)"
   ]
  },
  {
   "cell_type": "code",
   "execution_count": 53,
   "metadata": {},
   "outputs": [
    {
     "name": "stdout",
     "output_type": "stream",
     "text": [
      "['he', 'is', 'very', 'methodical', 'and', 'orderly', 'in', 'his', 'execution']\n"
     ]
    }
   ],
   "source": [
    "print([lemm.lemmatize(word) for word in tok])"
   ]
  },
  {
   "cell_type": "markdown",
   "metadata": {},
   "source": [
    "- lemmetize is a very aggresive technique in taking the word to the root form\n",
    "     - if the word to be stemmed is not part of the dictionary , it leaves it as it is\n",
    "     - emsured that the menaing of the sentence is not altered\n",
    "     - in most of the scenarios the no. distinct words after lemmetization could be same as before"
   ]
  },
  {
   "cell_type": "code",
   "execution_count": 54,
   "metadata": {},
   "outputs": [
    {
     "name": "stdout",
     "output_type": "stream",
     "text": [
      "['he', 'is', 'driving', 'and', 'drive', 'the', 'down', 'of', 'the', 'drived', 'vehicle']\n"
     ]
    }
   ],
   "source": [
    "txt2 = \"he is driving and drives the down of the drived vehicle\"\n",
    "print([lemm.lemmatize(word) for word in word_tokenize(txt2.lower())])"
   ]
  },
  {
   "cell_type": "code",
   "execution_count": 55,
   "metadata": {},
   "outputs": [
    {
     "name": "stdout",
     "output_type": "stream",
     "text": [
      "['he', 'be', 'drive', 'and', 'drive', 'the', 'down', 'of', 'the', 'drive', 'vehicle']\n"
     ]
    }
   ],
   "source": [
    "print([lemm.lemmatize(word, pos='v') for word in word_tokenize(txt2.lower())]) # pos='v' only for verbs"
   ]
  },
  {
   "cell_type": "code",
   "execution_count": 59,
   "metadata": {},
   "outputs": [
    {
     "name": "stdout",
     "output_type": "stream",
     "text": [
      "['he', 'is', 'veri', 'method', 'and', 'orderli', 'in', 'hi', 'execut']\n",
      "--- 0.0010440349578857422 seconds ---\n"
     ]
    }
   ],
   "source": [
    "import time\n",
    "start_time = time.time()\n",
    "txt = \"he is very methodical and orderly in his execution\"\n",
    "tok = word_tokenize(txt.lower())\n",
    "print([stemmer_p.stem(word) for word in tok]) # it doesn't take in dictionary form, its just chop off\n",
    "print(\"--- %s seconds ---\" % (time.time() - start_time))"
   ]
  },
  {
   "cell_type": "code",
   "execution_count": 60,
   "metadata": {},
   "outputs": [
    {
     "name": "stdout",
     "output_type": "stream",
     "text": [
      "['he', 'is', 'veri', 'method', 'and', 'order', 'in', 'his', 'execut']\n",
      "--- 0.0009970664978027344 seconds ---\n"
     ]
    }
   ],
   "source": [
    "import time\n",
    "start_time = time.time()\n",
    "txt = \"he is very methodical and orderly in his execution\"\n",
    "tok = word_tokenize(txt.lower())\n",
    "print([stemmer_s.stem(word) for word in tok]) # it doesn't take in dictionary form, its just chop off\n",
    "print(\"--- %s seconds ---\" % (time.time() - start_time))"
   ]
  },
  {
   "cell_type": "code",
   "execution_count": 66,
   "metadata": {},
   "outputs": [
    {
     "name": "stdout",
     "output_type": "stream",
     "text": [
      "['he', 'is', 'very', 'methodical', 'and', 'orderly', 'in', 'his', 'execution']\n",
      "--- 0.0 seconds ---\n"
     ]
    }
   ],
   "source": [
    "import time\n",
    "start_time = time.time()\n",
    "txt2 = \"he is very methodical and orderly in his execution\"\n",
    "print([lemm.lemmatize(word) for word in word_tokenize(txt2.lower())])\n",
    "print(\"--- %s seconds ---\" % (time.time() - start_time))"
   ]
  },
  {
   "cell_type": "markdown",
   "metadata": {},
   "source": [
    "#### conclusion:\n",
    "- stemmer helps to reduce the number of distinct words in the corpus\n",
    "- lemmitizer helps to retain the meaning of the words effectively used when the context of word is important\n",
    "- stemmer is used when I have an intent of getting lesser words which reduces the total number of features"
   ]
  },
  {
   "cell_type": "code",
   "execution_count": null,
   "metadata": {},
   "outputs": [],
   "source": [
    "#combine all the steps and create udf\n",
    "# takes one review as input and returns a cleaned review as a string\n",
    "def clean_txt(sent):"
   ]
  }
 ],
 "metadata": {
  "kernelspec": {
   "display_name": "Python 3",
   "language": "python",
   "name": "python3"
  },
  "language_info": {
   "codemirror_mode": {
    "name": "ipython",
    "version": 3
   },
   "file_extension": ".py",
   "mimetype": "text/x-python",
   "name": "python",
   "nbconvert_exporter": "python",
   "pygments_lexer": "ipython3",
   "version": "3.7.6"
  }
 },
 "nbformat": 4,
 "nbformat_minor": 2
}
