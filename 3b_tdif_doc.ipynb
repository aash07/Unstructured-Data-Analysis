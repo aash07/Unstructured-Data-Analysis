{
 "cells": [
  {
   "cell_type": "code",
   "execution_count": 57,
   "metadata": {},
   "outputs": [],
   "source": [
    "import numpy as np\n",
    "import pandas as pd\n",
    "import nltk\n",
    "from string import punctuation\n",
    "from nltk.corpus import stopwords\n",
    "from nltk.tokenize import word_tokenize"
   ]
  },
  {
   "cell_type": "code",
   "execution_count": 26,
   "metadata": {},
   "outputs": [],
   "source": [
    "file = open('task_tdif.txt','r')"
   ]
  },
  {
   "cell_type": "code",
   "execution_count": 27,
   "metadata": {},
   "outputs": [],
   "source": [
    "x=[]\n",
    "for i in file:\n",
    "    x.append(i) "
   ]
  },
  {
   "cell_type": "code",
   "execution_count": 33,
   "metadata": {},
   "outputs": [
    {
     "data": {
      "text/plain": [
       "['document1 = \"Python is a 2000 made-for-TV horror movie directed by Richard Clabaugh. The film features several cult favorite actors, including William Zabka of The Karate Kid fame, Wil Wheaton, Casper Van Dien, Jenny McCarthy, Keith Coogan, Robert Englund (best known for his role as Freddy Krueger in the A Nightmare on Elm Street series of films), Dana Barron, David Bowe, and Sean Whalen. The film concerns a genetically engineered snake, a python, that escapes and unleashes itself on a small town. It includes the classic final girl scenario evident in films like Friday the 13th. It was filmed in Los Angeles,  California and Malibu, California. Python was followed by two sequels: Python  II (2002) and Boa vs. Python (2004), both also made-for-TV films.\"\\n',\n",
       " 'document2 = \"Python, from the Greek word (p????/p????a?), is a genus of nonvenomous pythons found in Africa and Asia. Currently, 7 species are recognised. A member of this genus, P. reticulatus, is among the longest snakes known.\"\\n',\n",
       " 'document3 = \"The Colt Python is a .357 Magnum caliber revolver formerly manufactured by Colt\\'s Manufacturing Company of Hartford, Connecticut. It is sometimes referred to as a \"\"Combat Magnum\"\". It was first introduced in 1955, the same year as Smith &amp; Wesson\\'s M29 .44 Magnum. The now discontinued Colt Python targeted the premium revolver market segment. Some firearm collectors and writers such as Jeff Cooper, Ian V. Hogg, Chuck Hawks, Leroy Thompson, Renee Smeets and Martin Dougherty have described the Python as the finest production revolver ever made.\"\\n']"
      ]
     },
     "execution_count": 33,
     "metadata": {},
     "output_type": "execute_result"
    }
   ],
   "source": [
    "x"
   ]
  },
  {
   "cell_type": "code",
   "execution_count": 48,
   "metadata": {},
   "outputs": [],
   "source": [
    "doc1 =x[0].split('=')[1]"
   ]
  },
  {
   "cell_type": "code",
   "execution_count": 49,
   "metadata": {},
   "outputs": [],
   "source": [
    "doc2=x[1].split('=')[1]"
   ]
  },
  {
   "cell_type": "code",
   "execution_count": 50,
   "metadata": {},
   "outputs": [],
   "source": [
    "doc3 =x[2].split('=')[1]"
   ]
  },
  {
   "cell_type": "code",
   "execution_count": 51,
   "metadata": {},
   "outputs": [
    {
     "name": "stdout",
     "output_type": "stream",
     "text": [
      " \"Python is a 2000 made-for-TV horror movie directed by Richard Clabaugh. The film features several cult favorite actors, including William Zabka of The Karate Kid fame, Wil Wheaton, Casper Van Dien, Jenny McCarthy, Keith Coogan, Robert Englund (best known for his role as Freddy Krueger in the A Nightmare on Elm Street series of films), Dana Barron, David Bowe, and Sean Whalen. The film concerns a genetically engineered snake, a python, that escapes and unleashes itself on a small town. It includes the classic final girl scenario evident in films like Friday the 13th. It was filmed in Los Angeles,  California and Malibu, California. Python was followed by two sequels: Python  II (2002) and Boa vs. Python (2004), both also made-for-TV films.\"\n",
      "\n"
     ]
    }
   ],
   "source": [
    "print(doc1)"
   ]
  },
  {
   "cell_type": "code",
   "execution_count": 52,
   "metadata": {},
   "outputs": [
    {
     "name": "stdout",
     "output_type": "stream",
     "text": [
      " \"Python, from the Greek word (p????/p????a?), is a genus of nonvenomous pythons found in Africa and Asia. Currently, 7 species are recognised. A member of this genus, P. reticulatus, is among the longest snakes known.\"\n",
      "\n"
     ]
    }
   ],
   "source": [
    "print(doc2)"
   ]
  },
  {
   "cell_type": "code",
   "execution_count": 53,
   "metadata": {},
   "outputs": [
    {
     "name": "stdout",
     "output_type": "stream",
     "text": [
      " \"The Colt Python is a .357 Magnum caliber revolver formerly manufactured by Colt's Manufacturing Company of Hartford, Connecticut. It is sometimes referred to as a \"\"Combat Magnum\"\". It was first introduced in 1955, the same year as Smith &amp; Wesson's M29 .44 Magnum. The now discontinued Colt Python targeted the premium revolver market segment. Some firearm collectors and writers such as Jeff Cooper, Ian V. Hogg, Chuck Hawks, Leroy Thompson, Renee Smeets and Martin Dougherty have described the Python as the finest production revolver ever made.\"\n",
      "\n"
     ]
    }
   ],
   "source": [
    "print(doc3)"
   ]
  },
  {
   "cell_type": "code",
   "execution_count": 54,
   "metadata": {},
   "outputs": [],
   "source": [
    "from nltk.stem import PorterStemmer, SnowballStemmer"
   ]
  },
  {
   "cell_type": "code",
   "execution_count": 55,
   "metadata": {},
   "outputs": [],
   "source": [
    "def clean_txt(sent):\n",
    "    tokens = word_tokenize(sent.lower())\n",
    "    stemmer_s = SnowballStemmer(\"english\")\n",
    "    stop_updated = stopwords.words(\"english\") + list(punctuation) \n",
    "    final_word = [term for term in tokens if term not in stop_updated \n",
    "               and len(term) > 2] \n",
    "    res = \" \".join(final_word)\n",
    "    return res"
   ]
  },
  {
   "cell_type": "code",
   "execution_count": 58,
   "metadata": {},
   "outputs": [
    {
     "data": {
      "text/plain": [
       "'python 2000 made-for-tv horror movie directed richard clabaugh film features several cult favorite actors including william zabka karate kid fame wil wheaton casper van dien jenny mccarthy keith coogan robert englund best known role freddy krueger nightmare elm street series films dana barron david bowe sean whalen film concerns genetically engineered snake python escapes unleashes small town includes classic final girl scenario evident films like friday 13th filmed los angeles california malibu california python followed two sequels python 2002 boa vs. python 2004 also made-for-tv films'"
      ]
     },
     "execution_count": 58,
     "metadata": {},
     "output_type": "execute_result"
    }
   ],
   "source": [
    "doc1_clean = clean_txt(doc1)\n",
    "doc1_clean"
   ]
  },
  {
   "cell_type": "code",
   "execution_count": 59,
   "metadata": {},
   "outputs": [
    {
     "data": {
      "text/plain": [
       "'python greek word genus nonvenomous pythons found africa asia currently species recognised member genus reticulatus among longest snakes known'"
      ]
     },
     "execution_count": 59,
     "metadata": {},
     "output_type": "execute_result"
    }
   ],
   "source": [
    "doc2_clean = clean_txt(doc2)\n",
    "doc2_clean"
   ]
  },
  {
   "cell_type": "code",
   "execution_count": 60,
   "metadata": {},
   "outputs": [
    {
     "data": {
      "text/plain": [
       "'colt python .357 magnum caliber revolver formerly manufactured colt manufacturing company hartford connecticut sometimes referred combat magnum first introduced 1955 year smith amp wesson m29 .44 magnum discontinued colt python targeted premium revolver market segment firearm collectors writers jeff cooper ian hogg chuck hawks leroy thompson renee smeets martin dougherty described python finest production revolver ever made'"
      ]
     },
     "execution_count": 60,
     "metadata": {},
     "output_type": "execute_result"
    }
   ],
   "source": [
    "doc3_clean = clean_txt(doc3)\n",
    "doc3_clean"
   ]
  },
  {
   "cell_type": "code",
   "execution_count": 61,
   "metadata": {},
   "outputs": [
    {
     "data": {
      "text/html": [
       "<div>\n",
       "<style scoped>\n",
       "    .dataframe tbody tr th:only-of-type {\n",
       "        vertical-align: middle;\n",
       "    }\n",
       "\n",
       "    .dataframe tbody tr th {\n",
       "        vertical-align: top;\n",
       "    }\n",
       "\n",
       "    .dataframe thead th {\n",
       "        text-align: right;\n",
       "    }\n",
       "</style>\n",
       "<table border=\"1\" class=\"dataframe\">\n",
       "  <thead>\n",
       "    <tr style=\"text-align: right;\">\n",
       "      <th></th>\n",
       "      <th>text</th>\n",
       "    </tr>\n",
       "  </thead>\n",
       "  <tbody>\n",
       "    <tr>\n",
       "      <th>0</th>\n",
       "      <td>python 2000 made-for-tv horror movie directed ...</td>\n",
       "    </tr>\n",
       "    <tr>\n",
       "      <th>1</th>\n",
       "      <td>python greek word genus nonvenomous pythons fo...</td>\n",
       "    </tr>\n",
       "    <tr>\n",
       "      <th>2</th>\n",
       "      <td>colt python .357 magnum caliber revolver forme...</td>\n",
       "    </tr>\n",
       "  </tbody>\n",
       "</table>\n",
       "</div>"
      ],
      "text/plain": [
       "                                                text\n",
       "0  python 2000 made-for-tv horror movie directed ...\n",
       "1  python greek word genus nonvenomous pythons fo...\n",
       "2  colt python .357 magnum caliber revolver forme..."
      ]
     },
     "execution_count": 61,
     "metadata": {},
     "output_type": "execute_result"
    }
   ],
   "source": [
    "doc = pd.DataFrame([doc1_clean, doc2_clean,doc3_clean], columns=[\"text\"])\n",
    "doc"
   ]
  },
  {
   "cell_type": "code",
   "execution_count": 62,
   "metadata": {},
   "outputs": [],
   "source": [
    "from sklearn.feature_extraction.text import CountVectorizer"
   ]
  },
  {
   "cell_type": "code",
   "execution_count": 63,
   "metadata": {},
   "outputs": [],
   "source": [
    "count_vectorizer = CountVectorizer()"
   ]
  },
  {
   "cell_type": "code",
   "execution_count": 64,
   "metadata": {},
   "outputs": [],
   "source": [
    "x = count_vectorizer.fit_transform(doc['text'])"
   ]
  },
  {
   "cell_type": "code",
   "execution_count": 65,
   "metadata": {},
   "outputs": [
    {
     "data": {
      "text/plain": [
       "<3x142 sparse matrix of type '<class 'numpy.int64'>'\n",
       "\twith 146 stored elements in Compressed Sparse Row format>"
      ]
     },
     "execution_count": 65,
     "metadata": {},
     "output_type": "execute_result"
    }
   ],
   "source": [
    "x"
   ]
  },
  {
   "cell_type": "code",
   "execution_count": 66,
   "metadata": {},
   "outputs": [
    {
     "data": {
      "text/plain": [
       "array([[1, 0, 1, 1, 1, 0, 0, 1, 0, 1, 0, 0, 1, 0, 1, 1, 1, 1, 0, 2, 1, 0,\n",
       "        1, 1, 0, 0, 0, 0, 1, 0, 1, 0, 1, 0, 1, 1, 0, 1, 1, 0, 0, 1, 1, 1,\n",
       "        1, 0, 1, 1, 1, 1, 2, 1, 3, 1, 0, 0, 0, 1, 2, 0, 0, 1, 1, 1, 0, 1,\n",
       "        0, 0, 0, 0, 1, 0, 1, 1, 0, 0, 1, 1, 1, 1, 1, 1, 0, 1, 0, 1, 0, 2,\n",
       "        0, 1, 0, 0, 0, 0, 1, 0, 1, 1, 0, 0, 0, 5, 0, 0, 0, 0, 0, 0, 1, 1,\n",
       "        1, 1, 1, 0, 1, 1, 1, 1, 0, 0, 1, 0, 0, 0, 1, 0, 0, 1, 2, 1, 1, 1,\n",
       "        1, 0, 1, 1, 1, 1, 0, 0, 0, 1],\n",
       "       [0, 0, 0, 0, 0, 0, 0, 0, 1, 0, 1, 0, 0, 1, 0, 0, 0, 0, 0, 0, 0, 0,\n",
       "        0, 0, 0, 0, 0, 0, 0, 0, 0, 0, 0, 1, 0, 0, 0, 0, 0, 0, 0, 0, 0, 0,\n",
       "        0, 0, 0, 0, 0, 0, 0, 0, 0, 0, 0, 0, 0, 0, 0, 0, 1, 0, 0, 0, 2, 0,\n",
       "        1, 0, 0, 0, 0, 0, 0, 0, 0, 0, 0, 0, 0, 0, 1, 0, 0, 0, 1, 0, 0, 0,\n",
       "        0, 0, 0, 0, 0, 0, 0, 1, 0, 0, 1, 0, 0, 1, 1, 1, 0, 0, 1, 0, 0, 0,\n",
       "        0, 0, 0, 0, 0, 0, 0, 0, 0, 0, 0, 1, 0, 1, 0, 0, 0, 0, 0, 0, 0, 0,\n",
       "        0, 0, 0, 0, 0, 0, 1, 0, 0, 0],\n",
       "       [0, 1, 0, 0, 0, 1, 1, 0, 0, 0, 0, 1, 0, 0, 0, 0, 0, 0, 1, 0, 0, 1,\n",
       "        0, 0, 1, 3, 1, 1, 0, 1, 0, 1, 0, 0, 0, 0, 1, 0, 0, 1, 1, 0, 0, 0,\n",
       "        0, 1, 0, 0, 0, 0, 0, 0, 0, 0, 1, 1, 1, 0, 0, 1, 0, 0, 0, 0, 0, 0,\n",
       "        0, 1, 1, 1, 0, 1, 0, 0, 1, 1, 0, 0, 0, 0, 0, 0, 1, 0, 0, 0, 1, 1,\n",
       "        3, 0, 1, 1, 1, 1, 0, 0, 0, 0, 0, 1, 1, 3, 0, 0, 1, 1, 0, 3, 0, 0,\n",
       "        0, 0, 0, 1, 0, 0, 0, 0, 1, 1, 0, 0, 1, 0, 0, 1, 1, 0, 0, 0, 0, 0,\n",
       "        0, 1, 0, 0, 0, 0, 0, 1, 1, 0]], dtype=int64)"
      ]
     },
     "execution_count": 66,
     "metadata": {},
     "output_type": "execute_result"
    }
   ],
   "source": [
    "x.toarray()"
   ]
  },
  {
   "cell_type": "code",
   "execution_count": 67,
   "metadata": {},
   "outputs": [
    {
     "data": {
      "text/plain": [
       "matrix([[1, 0, 1, 1, 1, 0, 0, 1, 0, 1, 0, 0, 1, 0, 1, 1, 1, 1, 0, 2, 1,\n",
       "         0, 1, 1, 0, 0, 0, 0, 1, 0, 1, 0, 1, 0, 1, 1, 0, 1, 1, 0, 0, 1,\n",
       "         1, 1, 1, 0, 1, 1, 1, 1, 2, 1, 3, 1, 0, 0, 0, 1, 2, 0, 0, 1, 1,\n",
       "         1, 0, 1, 0, 0, 0, 0, 1, 0, 1, 1, 0, 0, 1, 1, 1, 1, 1, 1, 0, 1,\n",
       "         0, 1, 0, 2, 0, 1, 0, 0, 0, 0, 1, 0, 1, 1, 0, 0, 0, 5, 0, 0, 0,\n",
       "         0, 0, 0, 1, 1, 1, 1, 1, 0, 1, 1, 1, 1, 0, 0, 1, 0, 0, 0, 1, 0,\n",
       "         0, 1, 2, 1, 1, 1, 1, 0, 1, 1, 1, 1, 0, 0, 0, 1],\n",
       "        [0, 0, 0, 0, 0, 0, 0, 0, 1, 0, 1, 0, 0, 1, 0, 0, 0, 0, 0, 0, 0,\n",
       "         0, 0, 0, 0, 0, 0, 0, 0, 0, 0, 0, 0, 1, 0, 0, 0, 0, 0, 0, 0, 0,\n",
       "         0, 0, 0, 0, 0, 0, 0, 0, 0, 0, 0, 0, 0, 0, 0, 0, 0, 0, 1, 0, 0,\n",
       "         0, 2, 0, 1, 0, 0, 0, 0, 0, 0, 0, 0, 0, 0, 0, 0, 0, 1, 0, 0, 0,\n",
       "         1, 0, 0, 0, 0, 0, 0, 0, 0, 0, 0, 1, 0, 0, 1, 0, 0, 1, 1, 1, 0,\n",
       "         0, 1, 0, 0, 0, 0, 0, 0, 0, 0, 0, 0, 0, 0, 0, 0, 1, 0, 1, 0, 0,\n",
       "         0, 0, 0, 0, 0, 0, 0, 0, 0, 0, 0, 0, 1, 0, 0, 0],\n",
       "        [0, 1, 0, 0, 0, 1, 1, 0, 0, 0, 0, 1, 0, 0, 0, 0, 0, 0, 1, 0, 0,\n",
       "         1, 0, 0, 1, 3, 1, 1, 0, 1, 0, 1, 0, 0, 0, 0, 1, 0, 0, 1, 1, 0,\n",
       "         0, 0, 0, 1, 0, 0, 0, 0, 0, 0, 0, 0, 1, 1, 1, 0, 0, 1, 0, 0, 0,\n",
       "         0, 0, 0, 0, 1, 1, 1, 0, 1, 0, 0, 1, 1, 0, 0, 0, 0, 0, 0, 1, 0,\n",
       "         0, 0, 1, 1, 3, 0, 1, 1, 1, 1, 0, 0, 0, 0, 0, 1, 1, 3, 0, 0, 1,\n",
       "         1, 0, 3, 0, 0, 0, 0, 0, 1, 0, 0, 0, 0, 1, 1, 0, 0, 1, 0, 0, 1,\n",
       "         1, 0, 0, 0, 0, 0, 0, 1, 0, 0, 0, 0, 0, 1, 1, 0]], dtype=int64)"
      ]
     },
     "execution_count": 67,
     "metadata": {},
     "output_type": "execute_result"
    }
   ],
   "source": [
    "x.todense()"
   ]
  },
  {
   "cell_type": "code",
   "execution_count": 69,
   "metadata": {},
   "outputs": [
    {
     "name": "stdout",
     "output_type": "stream",
     "text": [
      "['13th', '1955', '2000', '2002', '2004', '357', '44', 'actors', 'africa', 'also', 'among', 'amp', 'angeles', 'asia', 'barron', 'best', 'boa', 'bowe', 'caliber', 'california', 'casper', 'chuck', 'clabaugh', 'classic', 'collectors', 'colt', 'combat', 'company', 'concerns', 'connecticut', 'coogan', 'cooper', 'cult', 'currently', 'dana', 'david', 'described', 'dien', 'directed', 'discontinued', 'dougherty', 'elm', 'engineered', 'englund', 'escapes', 'ever', 'evident', 'fame', 'favorite', 'features', 'film', 'filmed', 'films', 'final', 'finest', 'firearm', 'first', 'followed', 'for', 'formerly', 'found', 'freddy', 'friday', 'genetically', 'genus', 'girl', 'greek', 'hartford', 'hawks', 'hogg', 'horror', 'ian', 'includes', 'including', 'introduced', 'jeff', 'jenny', 'karate', 'keith', 'kid', 'known', 'krueger', 'leroy', 'like', 'longest', 'los', 'm29', 'made', 'magnum', 'malibu', 'manufactured', 'manufacturing', 'market', 'martin', 'mccarthy', 'member', 'movie', 'nightmare', 'nonvenomous', 'premium', 'production', 'python', 'pythons', 'recognised', 'referred', 'renee', 'reticulatus', 'revolver', 'richard', 'robert', 'role', 'scenario', 'sean', 'segment', 'sequels', 'series', 'several', 'small', 'smeets', 'smith', 'snake', 'snakes', 'sometimes', 'species', 'street', 'targeted', 'thompson', 'town', 'tv', 'two', 'unleashes', 'van', 'vs', 'wesson', 'whalen', 'wheaton', 'wil', 'william', 'word', 'writers', 'year', 'zabka']\n"
     ]
    }
   ],
   "source": [
    "print(count_vectorizer.get_feature_names())"
   ]
  },
  {
   "cell_type": "code",
   "execution_count": 70,
   "metadata": {},
   "outputs": [
    {
     "name": "stdout",
     "output_type": "stream",
     "text": [
      "{'python': 101, '2000': 2, 'made': 87, 'for': 58, 'tv': 128, 'horror': 70, 'movie': 96, 'directed': 38, 'richard': 108, 'clabaugh': 22, 'film': 50, 'features': 49, 'several': 116, 'cult': 32, 'favorite': 48, 'actors': 7, 'including': 73, 'william': 137, 'zabka': 141, 'karate': 77, 'kid': 79, 'fame': 47, 'wil': 136, 'wheaton': 135, 'casper': 20, 'van': 131, 'dien': 37, 'jenny': 76, 'mccarthy': 94, 'keith': 78, 'coogan': 30, 'robert': 109, 'englund': 43, 'best': 15, 'known': 80, 'role': 110, 'freddy': 61, 'krueger': 81, 'nightmare': 97, 'elm': 41, 'street': 124, 'series': 115, 'films': 52, 'dana': 34, 'barron': 14, 'david': 35, 'bowe': 17, 'sean': 112, 'whalen': 134, 'concerns': 28, 'genetically': 63, 'engineered': 42, 'snake': 120, 'escapes': 44, 'unleashes': 130, 'small': 117, 'town': 127, 'includes': 72, 'classic': 23, 'final': 53, 'girl': 65, 'scenario': 111, 'evident': 46, 'like': 83, 'friday': 62, '13th': 0, 'filmed': 51, 'los': 85, 'angeles': 12, 'california': 19, 'malibu': 89, 'followed': 57, 'two': 129, 'sequels': 114, '2002': 3, 'boa': 16, 'vs': 132, '2004': 4, 'also': 9, 'greek': 66, 'word': 138, 'genus': 64, 'nonvenomous': 98, 'pythons': 102, 'found': 60, 'africa': 8, 'asia': 13, 'currently': 33, 'species': 123, 'recognised': 103, 'member': 95, 'reticulatus': 106, 'among': 10, 'longest': 84, 'snakes': 121, 'colt': 25, '357': 5, 'magnum': 88, 'caliber': 18, 'revolver': 107, 'formerly': 59, 'manufactured': 90, 'manufacturing': 91, 'company': 27, 'hartford': 67, 'connecticut': 29, 'sometimes': 122, 'referred': 104, 'combat': 26, 'first': 56, 'introduced': 74, '1955': 1, 'year': 140, 'smith': 119, 'amp': 11, 'wesson': 133, 'm29': 86, '44': 6, 'discontinued': 39, 'targeted': 125, 'premium': 99, 'market': 92, 'segment': 113, 'firearm': 55, 'collectors': 24, 'writers': 139, 'jeff': 75, 'cooper': 31, 'ian': 71, 'hogg': 69, 'chuck': 21, 'hawks': 68, 'leroy': 82, 'thompson': 126, 'renee': 105, 'smeets': 118, 'martin': 93, 'dougherty': 40, 'described': 36, 'finest': 54, 'production': 100, 'ever': 45}\n"
     ]
    }
   ],
   "source": [
    "print(count_vectorizer.vocabulary_)"
   ]
  },
  {
   "cell_type": "code",
   "execution_count": 71,
   "metadata": {},
   "outputs": [
    {
     "data": {
      "text/html": [
       "<div>\n",
       "<style scoped>\n",
       "    .dataframe tbody tr th:only-of-type {\n",
       "        vertical-align: middle;\n",
       "    }\n",
       "\n",
       "    .dataframe tbody tr th {\n",
       "        vertical-align: top;\n",
       "    }\n",
       "\n",
       "    .dataframe thead th {\n",
       "        text-align: right;\n",
       "    }\n",
       "</style>\n",
       "<table border=\"1\" class=\"dataframe\">\n",
       "  <thead>\n",
       "    <tr style=\"text-align: right;\">\n",
       "      <th></th>\n",
       "      <th>13th</th>\n",
       "      <th>1955</th>\n",
       "      <th>2000</th>\n",
       "      <th>2002</th>\n",
       "      <th>2004</th>\n",
       "      <th>357</th>\n",
       "      <th>44</th>\n",
       "      <th>actors</th>\n",
       "      <th>africa</th>\n",
       "      <th>also</th>\n",
       "      <th>...</th>\n",
       "      <th>vs</th>\n",
       "      <th>wesson</th>\n",
       "      <th>whalen</th>\n",
       "      <th>wheaton</th>\n",
       "      <th>wil</th>\n",
       "      <th>william</th>\n",
       "      <th>word</th>\n",
       "      <th>writers</th>\n",
       "      <th>year</th>\n",
       "      <th>zabka</th>\n",
       "    </tr>\n",
       "  </thead>\n",
       "  <tbody>\n",
       "    <tr>\n",
       "      <th>0</th>\n",
       "      <td>1</td>\n",
       "      <td>0</td>\n",
       "      <td>1</td>\n",
       "      <td>1</td>\n",
       "      <td>1</td>\n",
       "      <td>0</td>\n",
       "      <td>0</td>\n",
       "      <td>1</td>\n",
       "      <td>0</td>\n",
       "      <td>1</td>\n",
       "      <td>...</td>\n",
       "      <td>1</td>\n",
       "      <td>0</td>\n",
       "      <td>1</td>\n",
       "      <td>1</td>\n",
       "      <td>1</td>\n",
       "      <td>1</td>\n",
       "      <td>0</td>\n",
       "      <td>0</td>\n",
       "      <td>0</td>\n",
       "      <td>1</td>\n",
       "    </tr>\n",
       "    <tr>\n",
       "      <th>1</th>\n",
       "      <td>0</td>\n",
       "      <td>0</td>\n",
       "      <td>0</td>\n",
       "      <td>0</td>\n",
       "      <td>0</td>\n",
       "      <td>0</td>\n",
       "      <td>0</td>\n",
       "      <td>0</td>\n",
       "      <td>1</td>\n",
       "      <td>0</td>\n",
       "      <td>...</td>\n",
       "      <td>0</td>\n",
       "      <td>0</td>\n",
       "      <td>0</td>\n",
       "      <td>0</td>\n",
       "      <td>0</td>\n",
       "      <td>0</td>\n",
       "      <td>1</td>\n",
       "      <td>0</td>\n",
       "      <td>0</td>\n",
       "      <td>0</td>\n",
       "    </tr>\n",
       "    <tr>\n",
       "      <th>2</th>\n",
       "      <td>0</td>\n",
       "      <td>1</td>\n",
       "      <td>0</td>\n",
       "      <td>0</td>\n",
       "      <td>0</td>\n",
       "      <td>1</td>\n",
       "      <td>1</td>\n",
       "      <td>0</td>\n",
       "      <td>0</td>\n",
       "      <td>0</td>\n",
       "      <td>...</td>\n",
       "      <td>0</td>\n",
       "      <td>1</td>\n",
       "      <td>0</td>\n",
       "      <td>0</td>\n",
       "      <td>0</td>\n",
       "      <td>0</td>\n",
       "      <td>0</td>\n",
       "      <td>1</td>\n",
       "      <td>1</td>\n",
       "      <td>0</td>\n",
       "    </tr>\n",
       "  </tbody>\n",
       "</table>\n",
       "<p>3 rows × 142 columns</p>\n",
       "</div>"
      ],
      "text/plain": [
       "   13th  1955  2000  2002  2004  357  44  actors  africa  also  ...  vs  \\\n",
       "0     1     0     1     1     1    0   0       1       0     1  ...   1   \n",
       "1     0     0     0     0     0    0   0       0       1     0  ...   0   \n",
       "2     0     1     0     0     0    1   1       0       0     0  ...   0   \n",
       "\n",
       "   wesson  whalen  wheaton  wil  william  word  writers  year  zabka  \n",
       "0       0       1        1    1        1     0        0     0      1  \n",
       "1       0       0        0    0        0     1        0     0      0  \n",
       "2       1       0        0    0        0     0        1     1      0  \n",
       "\n",
       "[3 rows x 142 columns]"
      ]
     },
     "execution_count": 71,
     "metadata": {},
     "output_type": "execute_result"
    }
   ],
   "source": [
    "DTM=pd.DataFrame(x.toarray(), columns =count_vectorizer.get_feature_names())\n",
    "DTM"
   ]
  },
  {
   "cell_type": "code",
   "execution_count": 72,
   "metadata": {},
   "outputs": [
    {
     "data": {
      "text/html": [
       "<div>\n",
       "<style scoped>\n",
       "    .dataframe tbody tr th:only-of-type {\n",
       "        vertical-align: middle;\n",
       "    }\n",
       "\n",
       "    .dataframe tbody tr th {\n",
       "        vertical-align: top;\n",
       "    }\n",
       "\n",
       "    .dataframe thead th {\n",
       "        text-align: right;\n",
       "    }\n",
       "</style>\n",
       "<table border=\"1\" class=\"dataframe\">\n",
       "  <thead>\n",
       "    <tr style=\"text-align: right;\">\n",
       "      <th></th>\n",
       "      <th>0</th>\n",
       "      <th>1</th>\n",
       "      <th>2</th>\n",
       "    </tr>\n",
       "  </thead>\n",
       "  <tbody>\n",
       "    <tr>\n",
       "      <th>13th</th>\n",
       "      <td>1</td>\n",
       "      <td>0</td>\n",
       "      <td>0</td>\n",
       "    </tr>\n",
       "    <tr>\n",
       "      <th>1955</th>\n",
       "      <td>0</td>\n",
       "      <td>0</td>\n",
       "      <td>1</td>\n",
       "    </tr>\n",
       "    <tr>\n",
       "      <th>2000</th>\n",
       "      <td>1</td>\n",
       "      <td>0</td>\n",
       "      <td>0</td>\n",
       "    </tr>\n",
       "    <tr>\n",
       "      <th>2002</th>\n",
       "      <td>1</td>\n",
       "      <td>0</td>\n",
       "      <td>0</td>\n",
       "    </tr>\n",
       "    <tr>\n",
       "      <th>2004</th>\n",
       "      <td>1</td>\n",
       "      <td>0</td>\n",
       "      <td>0</td>\n",
       "    </tr>\n",
       "    <tr>\n",
       "      <th>357</th>\n",
       "      <td>0</td>\n",
       "      <td>0</td>\n",
       "      <td>1</td>\n",
       "    </tr>\n",
       "    <tr>\n",
       "      <th>44</th>\n",
       "      <td>0</td>\n",
       "      <td>0</td>\n",
       "      <td>1</td>\n",
       "    </tr>\n",
       "    <tr>\n",
       "      <th>actors</th>\n",
       "      <td>1</td>\n",
       "      <td>0</td>\n",
       "      <td>0</td>\n",
       "    </tr>\n",
       "    <tr>\n",
       "      <th>africa</th>\n",
       "      <td>0</td>\n",
       "      <td>1</td>\n",
       "      <td>0</td>\n",
       "    </tr>\n",
       "    <tr>\n",
       "      <th>also</th>\n",
       "      <td>1</td>\n",
       "      <td>0</td>\n",
       "      <td>0</td>\n",
       "    </tr>\n",
       "    <tr>\n",
       "      <th>among</th>\n",
       "      <td>0</td>\n",
       "      <td>1</td>\n",
       "      <td>0</td>\n",
       "    </tr>\n",
       "    <tr>\n",
       "      <th>amp</th>\n",
       "      <td>0</td>\n",
       "      <td>0</td>\n",
       "      <td>1</td>\n",
       "    </tr>\n",
       "    <tr>\n",
       "      <th>angeles</th>\n",
       "      <td>1</td>\n",
       "      <td>0</td>\n",
       "      <td>0</td>\n",
       "    </tr>\n",
       "    <tr>\n",
       "      <th>asia</th>\n",
       "      <td>0</td>\n",
       "      <td>1</td>\n",
       "      <td>0</td>\n",
       "    </tr>\n",
       "    <tr>\n",
       "      <th>barron</th>\n",
       "      <td>1</td>\n",
       "      <td>0</td>\n",
       "      <td>0</td>\n",
       "    </tr>\n",
       "    <tr>\n",
       "      <th>best</th>\n",
       "      <td>1</td>\n",
       "      <td>0</td>\n",
       "      <td>0</td>\n",
       "    </tr>\n",
       "    <tr>\n",
       "      <th>boa</th>\n",
       "      <td>1</td>\n",
       "      <td>0</td>\n",
       "      <td>0</td>\n",
       "    </tr>\n",
       "    <tr>\n",
       "      <th>bowe</th>\n",
       "      <td>1</td>\n",
       "      <td>0</td>\n",
       "      <td>0</td>\n",
       "    </tr>\n",
       "    <tr>\n",
       "      <th>caliber</th>\n",
       "      <td>0</td>\n",
       "      <td>0</td>\n",
       "      <td>1</td>\n",
       "    </tr>\n",
       "    <tr>\n",
       "      <th>california</th>\n",
       "      <td>2</td>\n",
       "      <td>0</td>\n",
       "      <td>0</td>\n",
       "    </tr>\n",
       "    <tr>\n",
       "      <th>casper</th>\n",
       "      <td>1</td>\n",
       "      <td>0</td>\n",
       "      <td>0</td>\n",
       "    </tr>\n",
       "    <tr>\n",
       "      <th>chuck</th>\n",
       "      <td>0</td>\n",
       "      <td>0</td>\n",
       "      <td>1</td>\n",
       "    </tr>\n",
       "    <tr>\n",
       "      <th>clabaugh</th>\n",
       "      <td>1</td>\n",
       "      <td>0</td>\n",
       "      <td>0</td>\n",
       "    </tr>\n",
       "    <tr>\n",
       "      <th>classic</th>\n",
       "      <td>1</td>\n",
       "      <td>0</td>\n",
       "      <td>0</td>\n",
       "    </tr>\n",
       "    <tr>\n",
       "      <th>collectors</th>\n",
       "      <td>0</td>\n",
       "      <td>0</td>\n",
       "      <td>1</td>\n",
       "    </tr>\n",
       "    <tr>\n",
       "      <th>colt</th>\n",
       "      <td>0</td>\n",
       "      <td>0</td>\n",
       "      <td>3</td>\n",
       "    </tr>\n",
       "    <tr>\n",
       "      <th>combat</th>\n",
       "      <td>0</td>\n",
       "      <td>0</td>\n",
       "      <td>1</td>\n",
       "    </tr>\n",
       "    <tr>\n",
       "      <th>company</th>\n",
       "      <td>0</td>\n",
       "      <td>0</td>\n",
       "      <td>1</td>\n",
       "    </tr>\n",
       "    <tr>\n",
       "      <th>concerns</th>\n",
       "      <td>1</td>\n",
       "      <td>0</td>\n",
       "      <td>0</td>\n",
       "    </tr>\n",
       "    <tr>\n",
       "      <th>connecticut</th>\n",
       "      <td>0</td>\n",
       "      <td>0</td>\n",
       "      <td>1</td>\n",
       "    </tr>\n",
       "    <tr>\n",
       "      <th>...</th>\n",
       "      <td>...</td>\n",
       "      <td>...</td>\n",
       "      <td>...</td>\n",
       "    </tr>\n",
       "    <tr>\n",
       "      <th>sean</th>\n",
       "      <td>1</td>\n",
       "      <td>0</td>\n",
       "      <td>0</td>\n",
       "    </tr>\n",
       "    <tr>\n",
       "      <th>segment</th>\n",
       "      <td>0</td>\n",
       "      <td>0</td>\n",
       "      <td>1</td>\n",
       "    </tr>\n",
       "    <tr>\n",
       "      <th>sequels</th>\n",
       "      <td>1</td>\n",
       "      <td>0</td>\n",
       "      <td>0</td>\n",
       "    </tr>\n",
       "    <tr>\n",
       "      <th>series</th>\n",
       "      <td>1</td>\n",
       "      <td>0</td>\n",
       "      <td>0</td>\n",
       "    </tr>\n",
       "    <tr>\n",
       "      <th>several</th>\n",
       "      <td>1</td>\n",
       "      <td>0</td>\n",
       "      <td>0</td>\n",
       "    </tr>\n",
       "    <tr>\n",
       "      <th>small</th>\n",
       "      <td>1</td>\n",
       "      <td>0</td>\n",
       "      <td>0</td>\n",
       "    </tr>\n",
       "    <tr>\n",
       "      <th>smeets</th>\n",
       "      <td>0</td>\n",
       "      <td>0</td>\n",
       "      <td>1</td>\n",
       "    </tr>\n",
       "    <tr>\n",
       "      <th>smith</th>\n",
       "      <td>0</td>\n",
       "      <td>0</td>\n",
       "      <td>1</td>\n",
       "    </tr>\n",
       "    <tr>\n",
       "      <th>snake</th>\n",
       "      <td>1</td>\n",
       "      <td>0</td>\n",
       "      <td>0</td>\n",
       "    </tr>\n",
       "    <tr>\n",
       "      <th>snakes</th>\n",
       "      <td>0</td>\n",
       "      <td>1</td>\n",
       "      <td>0</td>\n",
       "    </tr>\n",
       "    <tr>\n",
       "      <th>sometimes</th>\n",
       "      <td>0</td>\n",
       "      <td>0</td>\n",
       "      <td>1</td>\n",
       "    </tr>\n",
       "    <tr>\n",
       "      <th>species</th>\n",
       "      <td>0</td>\n",
       "      <td>1</td>\n",
       "      <td>0</td>\n",
       "    </tr>\n",
       "    <tr>\n",
       "      <th>street</th>\n",
       "      <td>1</td>\n",
       "      <td>0</td>\n",
       "      <td>0</td>\n",
       "    </tr>\n",
       "    <tr>\n",
       "      <th>targeted</th>\n",
       "      <td>0</td>\n",
       "      <td>0</td>\n",
       "      <td>1</td>\n",
       "    </tr>\n",
       "    <tr>\n",
       "      <th>thompson</th>\n",
       "      <td>0</td>\n",
       "      <td>0</td>\n",
       "      <td>1</td>\n",
       "    </tr>\n",
       "    <tr>\n",
       "      <th>town</th>\n",
       "      <td>1</td>\n",
       "      <td>0</td>\n",
       "      <td>0</td>\n",
       "    </tr>\n",
       "    <tr>\n",
       "      <th>tv</th>\n",
       "      <td>2</td>\n",
       "      <td>0</td>\n",
       "      <td>0</td>\n",
       "    </tr>\n",
       "    <tr>\n",
       "      <th>two</th>\n",
       "      <td>1</td>\n",
       "      <td>0</td>\n",
       "      <td>0</td>\n",
       "    </tr>\n",
       "    <tr>\n",
       "      <th>unleashes</th>\n",
       "      <td>1</td>\n",
       "      <td>0</td>\n",
       "      <td>0</td>\n",
       "    </tr>\n",
       "    <tr>\n",
       "      <th>van</th>\n",
       "      <td>1</td>\n",
       "      <td>0</td>\n",
       "      <td>0</td>\n",
       "    </tr>\n",
       "    <tr>\n",
       "      <th>vs</th>\n",
       "      <td>1</td>\n",
       "      <td>0</td>\n",
       "      <td>0</td>\n",
       "    </tr>\n",
       "    <tr>\n",
       "      <th>wesson</th>\n",
       "      <td>0</td>\n",
       "      <td>0</td>\n",
       "      <td>1</td>\n",
       "    </tr>\n",
       "    <tr>\n",
       "      <th>whalen</th>\n",
       "      <td>1</td>\n",
       "      <td>0</td>\n",
       "      <td>0</td>\n",
       "    </tr>\n",
       "    <tr>\n",
       "      <th>wheaton</th>\n",
       "      <td>1</td>\n",
       "      <td>0</td>\n",
       "      <td>0</td>\n",
       "    </tr>\n",
       "    <tr>\n",
       "      <th>wil</th>\n",
       "      <td>1</td>\n",
       "      <td>0</td>\n",
       "      <td>0</td>\n",
       "    </tr>\n",
       "    <tr>\n",
       "      <th>william</th>\n",
       "      <td>1</td>\n",
       "      <td>0</td>\n",
       "      <td>0</td>\n",
       "    </tr>\n",
       "    <tr>\n",
       "      <th>word</th>\n",
       "      <td>0</td>\n",
       "      <td>1</td>\n",
       "      <td>0</td>\n",
       "    </tr>\n",
       "    <tr>\n",
       "      <th>writers</th>\n",
       "      <td>0</td>\n",
       "      <td>0</td>\n",
       "      <td>1</td>\n",
       "    </tr>\n",
       "    <tr>\n",
       "      <th>year</th>\n",
       "      <td>0</td>\n",
       "      <td>0</td>\n",
       "      <td>1</td>\n",
       "    </tr>\n",
       "    <tr>\n",
       "      <th>zabka</th>\n",
       "      <td>1</td>\n",
       "      <td>0</td>\n",
       "      <td>0</td>\n",
       "    </tr>\n",
       "  </tbody>\n",
       "</table>\n",
       "<p>142 rows × 3 columns</p>\n",
       "</div>"
      ],
      "text/plain": [
       "             0  1  2\n",
       "13th         1  0  0\n",
       "1955         0  0  1\n",
       "2000         1  0  0\n",
       "2002         1  0  0\n",
       "2004         1  0  0\n",
       "357          0  0  1\n",
       "44           0  0  1\n",
       "actors       1  0  0\n",
       "africa       0  1  0\n",
       "also         1  0  0\n",
       "among        0  1  0\n",
       "amp          0  0  1\n",
       "angeles      1  0  0\n",
       "asia         0  1  0\n",
       "barron       1  0  0\n",
       "best         1  0  0\n",
       "boa          1  0  0\n",
       "bowe         1  0  0\n",
       "caliber      0  0  1\n",
       "california   2  0  0\n",
       "casper       1  0  0\n",
       "chuck        0  0  1\n",
       "clabaugh     1  0  0\n",
       "classic      1  0  0\n",
       "collectors   0  0  1\n",
       "colt         0  0  3\n",
       "combat       0  0  1\n",
       "company      0  0  1\n",
       "concerns     1  0  0\n",
       "connecticut  0  0  1\n",
       "...         .. .. ..\n",
       "sean         1  0  0\n",
       "segment      0  0  1\n",
       "sequels      1  0  0\n",
       "series       1  0  0\n",
       "several      1  0  0\n",
       "small        1  0  0\n",
       "smeets       0  0  1\n",
       "smith        0  0  1\n",
       "snake        1  0  0\n",
       "snakes       0  1  0\n",
       "sometimes    0  0  1\n",
       "species      0  1  0\n",
       "street       1  0  0\n",
       "targeted     0  0  1\n",
       "thompson     0  0  1\n",
       "town         1  0  0\n",
       "tv           2  0  0\n",
       "two          1  0  0\n",
       "unleashes    1  0  0\n",
       "van          1  0  0\n",
       "vs           1  0  0\n",
       "wesson       0  0  1\n",
       "whalen       1  0  0\n",
       "wheaton      1  0  0\n",
       "wil          1  0  0\n",
       "william      1  0  0\n",
       "word         0  1  0\n",
       "writers      0  0  1\n",
       "year         0  0  1\n",
       "zabka        1  0  0\n",
       "\n",
       "[142 rows x 3 columns]"
      ]
     },
     "execution_count": 72,
     "metadata": {},
     "output_type": "execute_result"
    }
   ],
   "source": [
    "DTM.T"
   ]
  },
  {
   "cell_type": "code",
   "execution_count": 73,
   "metadata": {},
   "outputs": [],
   "source": [
    "from sklearn.feature_extraction.text import TfidfVectorizer"
   ]
  },
  {
   "cell_type": "code",
   "execution_count": 74,
   "metadata": {},
   "outputs": [],
   "source": [
    "tfidf_vect = TfidfVectorizer()"
   ]
  },
  {
   "cell_type": "code",
   "execution_count": 75,
   "metadata": {},
   "outputs": [],
   "source": [
    "tfidf = tfidf_vect.fit_transform(doc['text'])"
   ]
  },
  {
   "cell_type": "code",
   "execution_count": 76,
   "metadata": {},
   "outputs": [],
   "source": [
    "df_tfidf = pd.DataFrame(tfidf.toarray(), columns =tfidf_vect.get_feature_names())"
   ]
  },
  {
   "cell_type": "code",
   "execution_count": 77,
   "metadata": {},
   "outputs": [
    {
     "data": {
      "text/html": [
       "<div>\n",
       "<style scoped>\n",
       "    .dataframe tbody tr th:only-of-type {\n",
       "        vertical-align: middle;\n",
       "    }\n",
       "\n",
       "    .dataframe tbody tr th {\n",
       "        vertical-align: top;\n",
       "    }\n",
       "\n",
       "    .dataframe thead th {\n",
       "        text-align: right;\n",
       "    }\n",
       "</style>\n",
       "<table border=\"1\" class=\"dataframe\">\n",
       "  <thead>\n",
       "    <tr style=\"text-align: right;\">\n",
       "      <th></th>\n",
       "      <th>13th</th>\n",
       "      <th>1955</th>\n",
       "      <th>2000</th>\n",
       "      <th>2002</th>\n",
       "      <th>2004</th>\n",
       "      <th>357</th>\n",
       "      <th>44</th>\n",
       "      <th>actors</th>\n",
       "      <th>africa</th>\n",
       "      <th>also</th>\n",
       "      <th>...</th>\n",
       "      <th>vs</th>\n",
       "      <th>wesson</th>\n",
       "      <th>whalen</th>\n",
       "      <th>wheaton</th>\n",
       "      <th>wil</th>\n",
       "      <th>william</th>\n",
       "      <th>word</th>\n",
       "      <th>writers</th>\n",
       "      <th>year</th>\n",
       "      <th>zabka</th>\n",
       "    </tr>\n",
       "  </thead>\n",
       "  <tbody>\n",
       "    <tr>\n",
       "      <th>0</th>\n",
       "      <td>0.096398</td>\n",
       "      <td>0.000000</td>\n",
       "      <td>0.096398</td>\n",
       "      <td>0.096398</td>\n",
       "      <td>0.096398</td>\n",
       "      <td>0.000000</td>\n",
       "      <td>0.000000</td>\n",
       "      <td>0.096398</td>\n",
       "      <td>0.000000</td>\n",
       "      <td>0.096398</td>\n",
       "      <td>...</td>\n",
       "      <td>0.096398</td>\n",
       "      <td>0.000000</td>\n",
       "      <td>0.096398</td>\n",
       "      <td>0.096398</td>\n",
       "      <td>0.096398</td>\n",
       "      <td>0.096398</td>\n",
       "      <td>0.000000</td>\n",
       "      <td>0.000000</td>\n",
       "      <td>0.000000</td>\n",
       "      <td>0.096398</td>\n",
       "    </tr>\n",
       "    <tr>\n",
       "      <th>1</th>\n",
       "      <td>0.000000</td>\n",
       "      <td>0.000000</td>\n",
       "      <td>0.000000</td>\n",
       "      <td>0.000000</td>\n",
       "      <td>0.000000</td>\n",
       "      <td>0.000000</td>\n",
       "      <td>0.000000</td>\n",
       "      <td>0.000000</td>\n",
       "      <td>0.224015</td>\n",
       "      <td>0.000000</td>\n",
       "      <td>...</td>\n",
       "      <td>0.000000</td>\n",
       "      <td>0.000000</td>\n",
       "      <td>0.000000</td>\n",
       "      <td>0.000000</td>\n",
       "      <td>0.000000</td>\n",
       "      <td>0.000000</td>\n",
       "      <td>0.224015</td>\n",
       "      <td>0.000000</td>\n",
       "      <td>0.000000</td>\n",
       "      <td>0.000000</td>\n",
       "    </tr>\n",
       "    <tr>\n",
       "      <th>2</th>\n",
       "      <td>0.000000</td>\n",
       "      <td>0.115688</td>\n",
       "      <td>0.000000</td>\n",
       "      <td>0.000000</td>\n",
       "      <td>0.000000</td>\n",
       "      <td>0.115688</td>\n",
       "      <td>0.115688</td>\n",
       "      <td>0.000000</td>\n",
       "      <td>0.000000</td>\n",
       "      <td>0.000000</td>\n",
       "      <td>...</td>\n",
       "      <td>0.000000</td>\n",
       "      <td>0.115688</td>\n",
       "      <td>0.000000</td>\n",
       "      <td>0.000000</td>\n",
       "      <td>0.000000</td>\n",
       "      <td>0.000000</td>\n",
       "      <td>0.000000</td>\n",
       "      <td>0.115688</td>\n",
       "      <td>0.115688</td>\n",
       "      <td>0.000000</td>\n",
       "    </tr>\n",
       "  </tbody>\n",
       "</table>\n",
       "<p>3 rows × 142 columns</p>\n",
       "</div>"
      ],
      "text/plain": [
       "       13th      1955      2000      2002      2004       357        44  \\\n",
       "0  0.096398  0.000000  0.096398  0.096398  0.096398  0.000000  0.000000   \n",
       "1  0.000000  0.000000  0.000000  0.000000  0.000000  0.000000  0.000000   \n",
       "2  0.000000  0.115688  0.000000  0.000000  0.000000  0.115688  0.115688   \n",
       "\n",
       "     actors    africa      also  ...        vs    wesson    whalen   wheaton  \\\n",
       "0  0.096398  0.000000  0.096398  ...  0.096398  0.000000  0.096398  0.096398   \n",
       "1  0.000000  0.224015  0.000000  ...  0.000000  0.000000  0.000000  0.000000   \n",
       "2  0.000000  0.000000  0.000000  ...  0.000000  0.115688  0.000000  0.000000   \n",
       "\n",
       "        wil   william      word   writers      year     zabka  \n",
       "0  0.096398  0.096398  0.000000  0.000000  0.000000  0.096398  \n",
       "1  0.000000  0.000000  0.224015  0.000000  0.000000  0.000000  \n",
       "2  0.000000  0.000000  0.000000  0.115688  0.115688  0.000000  \n",
       "\n",
       "[3 rows x 142 columns]"
      ]
     },
     "execution_count": 77,
     "metadata": {},
     "output_type": "execute_result"
    }
   ],
   "source": [
    "df_tfidf"
   ]
  },
  {
   "cell_type": "code",
   "execution_count": null,
   "metadata": {},
   "outputs": [],
   "source": []
  }
 ],
 "metadata": {
  "kernelspec": {
   "display_name": "Python 3",
   "language": "python",
   "name": "python3"
  },
  "language_info": {
   "codemirror_mode": {
    "name": "ipython",
    "version": 3
   },
   "file_extension": ".py",
   "mimetype": "text/x-python",
   "name": "python",
   "nbconvert_exporter": "python",
   "pygments_lexer": "ipython3",
   "version": "3.7.3"
  }
 },
 "nbformat": 4,
 "nbformat_minor": 2
}
