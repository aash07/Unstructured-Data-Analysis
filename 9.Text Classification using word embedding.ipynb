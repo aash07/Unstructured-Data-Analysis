{
 "cells": [
  {
   "cell_type": "code",
   "execution_count": 1,
   "metadata": {},
   "outputs": [],
   "source": [
    "import numpy as np \n",
    "import pandas as pd \n",
    "import nltk\n",
    "from nltk.corpus import stopwords\n",
    "import gensim\n",
    "import string"
   ]
  },
  {
   "cell_type": "code",
   "execution_count": 2,
   "metadata": {},
   "outputs": [],
   "source": [
    "df = pd.read_csv('imdb_sentiment.csv')"
   ]
  },
  {
   "cell_type": "markdown",
   "metadata": {},
   "source": [
    "### Load Google's Pretrained model\n",
    "- Download: https://drive.google.com/file/d/0B7XkCwpI5KDYNlNUTTlSS21pQmM/edit\n",
    "- Size: 1.5GB"
   ]
  },
  {
   "cell_type": "code",
   "execution_count": 5,
   "metadata": {},
   "outputs": [],
   "source": [
    "google_model = '..//word2vec//GoogleNews-vectors-negative300.bin.gz' \n",
    "embeddings = gensim.models.KeyedVectors.load_word2vec_format(google_model,\n",
    "                                                        binary=True)"
   ]
  },
  {
   "cell_type": "code",
   "execution_count": 6,
   "metadata": {},
   "outputs": [
    {
     "data": {
      "text/plain": [
       "array([ 0.11279297, -0.22949219,  0.01782227,  0.19238281, -0.22558594,\n",
       "        0.00933838, -0.01708984, -0.17285156,  0.1953125 , -0.05444336,\n",
       "        0.13867188, -0.27148438, -0.26757812,  0.08056641, -0.21191406,\n",
       "        0.31835938,  0.10693359, -0.00732422,  0.02758789, -0.40234375,\n",
       "       -0.07763672,  0.2421875 ,  0.09912109,  0.06689453, -0.36328125,\n",
       "       -0.09521484, -0.09423828,  0.11474609, -0.07128906, -0.14355469,\n",
       "       -0.10302734,  0.11376953, -0.22070312,  0.01489258, -0.125     ,\n",
       "        0.05566406, -0.07080078,  0.14648438,  0.32226562,  0.21679688,\n",
       "        0.12207031, -0.09863281,  0.05566406,  0.31445312,  0.20605469,\n",
       "       -0.0246582 ,  0.07226562, -0.25390625, -0.13085938, -0.20800781,\n",
       "       -0.22851562,  0.0189209 , -0.06787109, -0.00218201, -0.0112915 ,\n",
       "        0.04101562, -0.04907227, -0.10791016,  0.06591797, -0.02526855,\n",
       "        0.046875  , -0.27148438, -0.13476562,  0.08544922, -0.30078125,\n",
       "       -0.09375   , -0.36523438, -0.17871094, -0.07666016, -0.02770996,\n",
       "       -0.06201172,  0.42773438, -0.13769531, -0.02062988, -0.20800781,\n",
       "       -0.09375   , -0.12109375,  0.11083984,  0.00476074,  0.07861328,\n",
       "        0.05297852,  0.2578125 ,  0.21582031, -0.03930664,  0.16210938,\n",
       "        0.00479126, -0.00375366,  0.20507812, -0.18847656,  0.03637695,\n",
       "        0.03588867, -0.01623535, -0.13378906, -0.21875   ,  0.0246582 ,\n",
       "        0.12304688,  0.03759766,  0.08496094,  0.43164062,  0.26953125,\n",
       "       -0.1953125 , -0.19042969, -0.10546875,  0.05834961,  0.0390625 ,\n",
       "        0.29296875, -0.55859375,  0.03088379,  0.20117188, -0.18066406,\n",
       "       -0.28515625,  0.07080078, -0.20800781, -0.16113281,  0.40234375,\n",
       "        0.0112915 , -0.09570312, -0.36914062, -0.01464844,  0.18457031,\n",
       "       -0.01623535,  0.03955078, -0.32421875, -0.14648438,  0.11181641,\n",
       "        0.18261719, -0.04736328,  0.17285156, -0.05175781, -0.14160156,\n",
       "       -0.3359375 , -0.21972656, -0.06396484,  0.2421875 , -0.14550781,\n",
       "       -0.23046875,  0.04125977, -0.2265625 ,  0.10058594,  0.12158203,\n",
       "        0.24023438, -0.20019531, -0.11572266, -0.17285156,  0.19140625,\n",
       "       -0.10546875, -0.04492188, -0.16113281, -0.10449219, -0.40625   ,\n",
       "        0.07470703, -0.38085938, -0.3046875 ,  0.03417969, -0.03491211,\n",
       "       -0.15234375, -0.07373047,  0.06396484,  0.05664062, -0.03613281,\n",
       "       -0.09814453,  0.29101562, -0.15625   , -0.11230469,  0.203125  ,\n",
       "       -0.4765625 ,  0.16992188,  0.02990723, -0.296875  ,  0.02111816,\n",
       "       -0.01623535,  0.34960938,  0.01782227,  0.06835938, -0.10693359,\n",
       "        0.01843262,  0.31640625, -0.03369141,  0.265625  , -0.38476562,\n",
       "        0.00817871, -0.13964844, -0.00756836,  0.01306152,  0.1875    ,\n",
       "        0.17382812,  0.11767578,  0.16015625, -0.05957031, -0.08398438,\n",
       "        0.11914062,  0.25390625,  0.02709961, -0.05493164,  0.10107422,\n",
       "        0.45117188, -0.26953125, -0.3203125 ,  0.11865234, -0.11083984,\n",
       "       -0.25390625,  0.24316406, -0.02282715, -0.109375  , -0.16113281,\n",
       "        0.09179688, -0.265625  , -0.11816406, -0.02001953,  0.40429688,\n",
       "        0.01745605,  0.16015625, -0.31054688, -0.02648926, -0.14257812,\n",
       "        0.02954102,  0.12792969, -0.04272461, -0.14160156,  0.06542969,\n",
       "       -0.01123047, -0.02148438,  0.10400391,  0.17382812, -0.12451172,\n",
       "       -0.01361084, -0.08886719,  0.02490234, -0.19042969,  0.01226807,\n",
       "        0.18164062, -0.18066406, -0.20117188, -0.09570312,  0.13769531,\n",
       "        0.04052734,  0.22558594,  0.09960938,  0.27929688,  0.15527344,\n",
       "        0.09863281,  0.28320312,  0.06030273,  0.08056641,  0.00494385,\n",
       "        0.14160156,  0.11083984,  0.43945312, -0.30273438, -0.0612793 ,\n",
       "       -0.00915527, -0.05029297,  0.0612793 ,  0.19238281,  0.06640625,\n",
       "       -0.23242188, -0.10058594, -0.20605469,  0.10546875, -0.20214844,\n",
       "        0.2265625 ,  0.00854492,  0.23730469, -0.25585938,  0.07470703,\n",
       "       -0.05004883, -0.07714844, -0.0534668 ,  0.02746582, -0.24414062,\n",
       "        0.04125977,  0.09228516,  0.26171875,  0.07910156, -0.12597656,\n",
       "       -0.06445312, -0.11328125, -0.25390625,  0.08984375,  0.3046875 ,\n",
       "       -0.22753906,  0.08740234, -0.11572266,  0.24121094, -0.09912109,\n",
       "        0.00518799, -0.08691406,  0.03979492, -0.01159668,  0.21484375,\n",
       "        0.43359375,  0.25585938, -0.20019531,  0.27734375,  0.04638672,\n",
       "       -0.3203125 , -0.02453613, -0.26171875, -0.13671875, -0.08154297],\n",
       "      dtype=float32)"
      ]
     },
     "execution_count": 6,
     "metadata": {},
     "output_type": "execute_result"
    }
   ],
   "source": [
    "embeddings['google']"
   ]
  },
  {
   "cell_type": "code",
   "execution_count": 54,
   "metadata": {},
   "outputs": [
    {
     "data": {
      "text/plain": [
       "(300,)"
      ]
     },
     "execution_count": 54,
     "metadata": {},
     "output_type": "execute_result"
    }
   ],
   "source": [
    "embeddings['google'].shape"
   ]
  },
  {
   "cell_type": "code",
   "execution_count": 55,
   "metadata": {},
   "outputs": [
    {
     "data": {
      "text/html": [
       "<div>\n",
       "<style scoped>\n",
       "    .dataframe tbody tr th:only-of-type {\n",
       "        vertical-align: middle;\n",
       "    }\n",
       "\n",
       "    .dataframe tbody tr th {\n",
       "        vertical-align: top;\n",
       "    }\n",
       "\n",
       "    .dataframe thead th {\n",
       "        text-align: right;\n",
       "    }\n",
       "</style>\n",
       "<table border=\"1\" class=\"dataframe\">\n",
       "  <thead>\n",
       "    <tr style=\"text-align: right;\">\n",
       "      <th></th>\n",
       "      <th>review</th>\n",
       "      <th>sentiment</th>\n",
       "    </tr>\n",
       "  </thead>\n",
       "  <tbody>\n",
       "    <tr>\n",
       "      <th>0</th>\n",
       "      <td>A very, very, very slow-moving, aimless movie ...</td>\n",
       "      <td>0</td>\n",
       "    </tr>\n",
       "    <tr>\n",
       "      <th>1</th>\n",
       "      <td>Not sure who was more lost - the flat characte...</td>\n",
       "      <td>0</td>\n",
       "    </tr>\n",
       "    <tr>\n",
       "      <th>2</th>\n",
       "      <td>Attempting artiness with black &amp; white and cle...</td>\n",
       "      <td>0</td>\n",
       "    </tr>\n",
       "    <tr>\n",
       "      <th>3</th>\n",
       "      <td>Very little music or anything to speak of.</td>\n",
       "      <td>0</td>\n",
       "    </tr>\n",
       "    <tr>\n",
       "      <th>4</th>\n",
       "      <td>The best scene in the movie was when Gerardo i...</td>\n",
       "      <td>1</td>\n",
       "    </tr>\n",
       "  </tbody>\n",
       "</table>\n",
       "</div>"
      ],
      "text/plain": [
       "                                              review  sentiment\n",
       "0  A very, very, very slow-moving, aimless movie ...          0\n",
       "1  Not sure who was more lost - the flat characte...          0\n",
       "2  Attempting artiness with black & white and cle...          0\n",
       "3       Very little music or anything to speak of.            0\n",
       "4  The best scene in the movie was when Gerardo i...          1"
      ]
     },
     "execution_count": 55,
     "metadata": {},
     "output_type": "execute_result"
    }
   ],
   "source": [
    "df.head(5)"
   ]
  },
  {
   "cell_type": "code",
   "execution_count": 27,
   "metadata": {},
   "outputs": [
    {
     "data": {
      "text/plain": [
       "(5728, 2)"
      ]
     },
     "execution_count": 27,
     "metadata": {},
     "output_type": "execute_result"
    }
   ],
   "source": [
    "df.shape"
   ]
  },
  {
   "cell_type": "code",
   "execution_count": 57,
   "metadata": {},
   "outputs": [
    {
     "data": {
      "text/plain": [
       "Index(['review', 'sentiment'], dtype='object')"
      ]
     },
     "execution_count": 57,
     "metadata": {},
     "output_type": "execute_result"
    }
   ],
   "source": [
    "df.columns"
   ]
  },
  {
   "cell_type": "code",
   "execution_count": 58,
   "metadata": {},
   "outputs": [],
   "source": [
    "df.drop_duplicates(inplace = True)"
   ]
  },
  {
   "cell_type": "code",
   "execution_count": 59,
   "metadata": {},
   "outputs": [
    {
     "data": {
      "text/plain": [
       "(745, 2)"
      ]
     },
     "execution_count": 59,
     "metadata": {},
     "output_type": "execute_result"
    }
   ],
   "source": [
    "df.shape"
   ]
  },
  {
   "cell_type": "code",
   "execution_count": 60,
   "metadata": {},
   "outputs": [
    {
     "data": {
      "text/plain": [
       "review       0\n",
       "sentiment    0\n",
       "dtype: int64"
      ]
     },
     "execution_count": 60,
     "metadata": {},
     "output_type": "execute_result"
    }
   ],
   "source": [
    "df.isnull().sum()"
   ]
  },
  {
   "cell_type": "code",
   "execution_count": 61,
   "metadata": {},
   "outputs": [],
   "source": [
    "from string import punctuation\n",
    "from nltk.corpus import stopwords\n",
    "from nltk import word_tokenize"
   ]
  },
  {
   "cell_type": "code",
   "execution_count": 62,
   "metadata": {},
   "outputs": [],
   "source": [
    "def clean_txt(sent):\n",
    "    tokens = word_tokenize(sent.lower())\n",
    "    sent.replace('[^a-z ]',' ')\n",
    "    stop_updated = stopwords.words(\"english\") + list(punctuation) + [\"...\"] + \\\n",
    "    [\"would\", \"could\",\"told\",\"subject\"]\n",
    "    text = [term for term in tokens if term not in stop_updated and len(term) > 2] \n",
    "    res = \" \".join(text)\n",
    "    return res"
   ]
  },
  {
   "cell_type": "code",
   "execution_count": 64,
   "metadata": {},
   "outputs": [],
   "source": [
    "df['clean_review'] = df.review.apply(clean_txt)"
   ]
  },
  {
   "cell_type": "code",
   "execution_count": 65,
   "metadata": {},
   "outputs": [
    {
     "data": {
      "text/html": [
       "<div>\n",
       "<style scoped>\n",
       "    .dataframe tbody tr th:only-of-type {\n",
       "        vertical-align: middle;\n",
       "    }\n",
       "\n",
       "    .dataframe tbody tr th {\n",
       "        vertical-align: top;\n",
       "    }\n",
       "\n",
       "    .dataframe thead th {\n",
       "        text-align: right;\n",
       "    }\n",
       "</style>\n",
       "<table border=\"1\" class=\"dataframe\">\n",
       "  <thead>\n",
       "    <tr style=\"text-align: right;\">\n",
       "      <th></th>\n",
       "      <th>review</th>\n",
       "      <th>sentiment</th>\n",
       "      <th>clean_review</th>\n",
       "    </tr>\n",
       "  </thead>\n",
       "  <tbody>\n",
       "    <tr>\n",
       "      <th>0</th>\n",
       "      <td>A very, very, very slow-moving, aimless movie ...</td>\n",
       "      <td>0</td>\n",
       "      <td>slow-moving aimless movie distressed drifting ...</td>\n",
       "    </tr>\n",
       "    <tr>\n",
       "      <th>1</th>\n",
       "      <td>Not sure who was more lost - the flat characte...</td>\n",
       "      <td>0</td>\n",
       "      <td>sure lost flat characters audience nearly half...</td>\n",
       "    </tr>\n",
       "    <tr>\n",
       "      <th>2</th>\n",
       "      <td>Attempting artiness with black &amp; white and cle...</td>\n",
       "      <td>0</td>\n",
       "      <td>attempting artiness black white clever camera ...</td>\n",
       "    </tr>\n",
       "    <tr>\n",
       "      <th>3</th>\n",
       "      <td>Very little music or anything to speak of.</td>\n",
       "      <td>0</td>\n",
       "      <td>little music anything speak</td>\n",
       "    </tr>\n",
       "    <tr>\n",
       "      <th>4</th>\n",
       "      <td>The best scene in the movie was when Gerardo i...</td>\n",
       "      <td>1</td>\n",
       "      <td>best scene movie gerardo trying find song keep...</td>\n",
       "    </tr>\n",
       "  </tbody>\n",
       "</table>\n",
       "</div>"
      ],
      "text/plain": [
       "                                              review  sentiment  \\\n",
       "0  A very, very, very slow-moving, aimless movie ...          0   \n",
       "1  Not sure who was more lost - the flat characte...          0   \n",
       "2  Attempting artiness with black & white and cle...          0   \n",
       "3       Very little music or anything to speak of.            0   \n",
       "4  The best scene in the movie was when Gerardo i...          1   \n",
       "\n",
       "                                        clean_review  \n",
       "0  slow-moving aimless movie distressed drifting ...  \n",
       "1  sure lost flat characters audience nearly half...  \n",
       "2  attempting artiness black white clever camera ...  \n",
       "3                        little music anything speak  \n",
       "4  best scene movie gerardo trying find song keep...  "
      ]
     },
     "execution_count": 65,
     "metadata": {},
     "output_type": "execute_result"
    }
   ],
   "source": [
    "df.head()"
   ]
  },
  {
   "cell_type": "markdown",
   "metadata": {},
   "source": [
    "## Create document vectors using word embeddings"
   ]
  },
  {
   "cell_type": "code",
   "execution_count": 66,
   "metadata": {},
   "outputs": [
    {
     "data": {
      "text/html": [
       "<div>\n",
       "<style scoped>\n",
       "    .dataframe tbody tr th:only-of-type {\n",
       "        vertical-align: middle;\n",
       "    }\n",
       "\n",
       "    .dataframe tbody tr th {\n",
       "        vertical-align: top;\n",
       "    }\n",
       "\n",
       "    .dataframe thead th {\n",
       "        text-align: right;\n",
       "    }\n",
       "</style>\n",
       "<table border=\"1\" class=\"dataframe\">\n",
       "  <thead>\n",
       "    <tr style=\"text-align: right;\">\n",
       "      <th></th>\n",
       "      <th>0</th>\n",
       "      <th>1</th>\n",
       "      <th>2</th>\n",
       "      <th>3</th>\n",
       "      <th>4</th>\n",
       "      <th>5</th>\n",
       "      <th>6</th>\n",
       "      <th>7</th>\n",
       "      <th>8</th>\n",
       "      <th>9</th>\n",
       "      <th>...</th>\n",
       "      <th>290</th>\n",
       "      <th>291</th>\n",
       "      <th>292</th>\n",
       "      <th>293</th>\n",
       "      <th>294</th>\n",
       "      <th>295</th>\n",
       "      <th>296</th>\n",
       "      <th>297</th>\n",
       "      <th>298</th>\n",
       "      <th>299</th>\n",
       "    </tr>\n",
       "  </thead>\n",
       "  <tbody>\n",
       "    <tr>\n",
       "      <th>0</th>\n",
       "      <td>0.170980</td>\n",
       "      <td>0.169840</td>\n",
       "      <td>-0.111511</td>\n",
       "      <td>0.045278</td>\n",
       "      <td>-0.063273</td>\n",
       "      <td>0.021952</td>\n",
       "      <td>-0.062159</td>\n",
       "      <td>-0.018341</td>\n",
       "      <td>0.048421</td>\n",
       "      <td>0.052041</td>\n",
       "      <td>...</td>\n",
       "      <td>-0.073405</td>\n",
       "      <td>0.086751</td>\n",
       "      <td>-0.090210</td>\n",
       "      <td>-0.075134</td>\n",
       "      <td>-0.072550</td>\n",
       "      <td>0.062012</td>\n",
       "      <td>0.072103</td>\n",
       "      <td>-0.005147</td>\n",
       "      <td>0.044312</td>\n",
       "      <td>0.040568</td>\n",
       "    </tr>\n",
       "    <tr>\n",
       "      <th>1</th>\n",
       "      <td>0.143494</td>\n",
       "      <td>-0.017984</td>\n",
       "      <td>-0.009964</td>\n",
       "      <td>0.106308</td>\n",
       "      <td>-0.052292</td>\n",
       "      <td>-0.075745</td>\n",
       "      <td>-0.015942</td>\n",
       "      <td>-0.037323</td>\n",
       "      <td>0.114197</td>\n",
       "      <td>0.029335</td>\n",
       "      <td>...</td>\n",
       "      <td>-0.080658</td>\n",
       "      <td>0.051147</td>\n",
       "      <td>-0.152344</td>\n",
       "      <td>-0.048691</td>\n",
       "      <td>-0.065536</td>\n",
       "      <td>-0.029953</td>\n",
       "      <td>0.032959</td>\n",
       "      <td>-0.053650</td>\n",
       "      <td>0.021364</td>\n",
       "      <td>-0.096176</td>\n",
       "    </tr>\n",
       "    <tr>\n",
       "      <th>2</th>\n",
       "      <td>0.119808</td>\n",
       "      <td>0.053776</td>\n",
       "      <td>-0.008872</td>\n",
       "      <td>0.010807</td>\n",
       "      <td>-0.072973</td>\n",
       "      <td>-0.016860</td>\n",
       "      <td>0.056718</td>\n",
       "      <td>0.027276</td>\n",
       "      <td>0.051528</td>\n",
       "      <td>0.033042</td>\n",
       "      <td>...</td>\n",
       "      <td>-0.117338</td>\n",
       "      <td>0.073895</td>\n",
       "      <td>-0.129391</td>\n",
       "      <td>0.028119</td>\n",
       "      <td>-0.094421</td>\n",
       "      <td>-0.022527</td>\n",
       "      <td>0.060147</td>\n",
       "      <td>-0.040308</td>\n",
       "      <td>0.022281</td>\n",
       "      <td>0.013235</td>\n",
       "    </tr>\n",
       "    <tr>\n",
       "      <th>3</th>\n",
       "      <td>0.070648</td>\n",
       "      <td>-0.059143</td>\n",
       "      <td>-0.003357</td>\n",
       "      <td>0.084737</td>\n",
       "      <td>-0.092316</td>\n",
       "      <td>0.107788</td>\n",
       "      <td>0.156372</td>\n",
       "      <td>-0.170471</td>\n",
       "      <td>0.006287</td>\n",
       "      <td>-0.007477</td>\n",
       "      <td>...</td>\n",
       "      <td>-0.052734</td>\n",
       "      <td>0.080322</td>\n",
       "      <td>-0.023529</td>\n",
       "      <td>0.030060</td>\n",
       "      <td>-0.011902</td>\n",
       "      <td>-0.059326</td>\n",
       "      <td>0.144897</td>\n",
       "      <td>-0.071167</td>\n",
       "      <td>0.074524</td>\n",
       "      <td>-0.052612</td>\n",
       "    </tr>\n",
       "    <tr>\n",
       "      <th>4</th>\n",
       "      <td>0.120809</td>\n",
       "      <td>0.007568</td>\n",
       "      <td>0.040127</td>\n",
       "      <td>0.048381</td>\n",
       "      <td>-0.056264</td>\n",
       "      <td>0.004886</td>\n",
       "      <td>0.024143</td>\n",
       "      <td>-0.053096</td>\n",
       "      <td>0.066806</td>\n",
       "      <td>-0.012214</td>\n",
       "      <td>...</td>\n",
       "      <td>-0.098731</td>\n",
       "      <td>0.089857</td>\n",
       "      <td>-0.140744</td>\n",
       "      <td>0.013428</td>\n",
       "      <td>-0.042019</td>\n",
       "      <td>-0.015290</td>\n",
       "      <td>0.079617</td>\n",
       "      <td>0.000027</td>\n",
       "      <td>0.037869</td>\n",
       "      <td>0.076067</td>\n",
       "    </tr>\n",
       "  </tbody>\n",
       "</table>\n",
       "<p>5 rows × 300 columns</p>\n",
       "</div>"
      ],
      "text/plain": [
       "        0         1         2         3         4         5         6    \\\n",
       "0  0.170980  0.169840 -0.111511  0.045278 -0.063273  0.021952 -0.062159   \n",
       "1  0.143494 -0.017984 -0.009964  0.106308 -0.052292 -0.075745 -0.015942   \n",
       "2  0.119808  0.053776 -0.008872  0.010807 -0.072973 -0.016860  0.056718   \n",
       "3  0.070648 -0.059143 -0.003357  0.084737 -0.092316  0.107788  0.156372   \n",
       "4  0.120809  0.007568  0.040127  0.048381 -0.056264  0.004886  0.024143   \n",
       "\n",
       "        7         8         9    ...       290       291       292       293  \\\n",
       "0 -0.018341  0.048421  0.052041  ... -0.073405  0.086751 -0.090210 -0.075134   \n",
       "1 -0.037323  0.114197  0.029335  ... -0.080658  0.051147 -0.152344 -0.048691   \n",
       "2  0.027276  0.051528  0.033042  ... -0.117338  0.073895 -0.129391  0.028119   \n",
       "3 -0.170471  0.006287 -0.007477  ... -0.052734  0.080322 -0.023529  0.030060   \n",
       "4 -0.053096  0.066806 -0.012214  ... -0.098731  0.089857 -0.140744  0.013428   \n",
       "\n",
       "        294       295       296       297       298       299  \n",
       "0 -0.072550  0.062012  0.072103 -0.005147  0.044312  0.040568  \n",
       "1 -0.065536 -0.029953  0.032959 -0.053650  0.021364 -0.096176  \n",
       "2 -0.094421 -0.022527  0.060147 -0.040308  0.022281  0.013235  \n",
       "3 -0.011902 -0.059326  0.144897 -0.071167  0.074524 -0.052612  \n",
       "4 -0.042019 -0.015290  0.079617  0.000027  0.037869  0.076067  \n",
       "\n",
       "[5 rows x 300 columns]"
      ]
     },
     "execution_count": 66,
     "metadata": {},
     "output_type": "execute_result"
    }
   ],
   "source": [
    "docs_vectors = pd.DataFrame()\n",
    "for doc in df.clean_review:\n",
    "    temp = pd.DataFrame()\n",
    "    words = doc.split(' ')\n",
    "    for word in words:\n",
    "        try:\n",
    "            word2vec = embeddings[word]\n",
    "            temp = temp.append(pd.Series(word2vec),ignore_index=True)\n",
    "        except:\n",
    "            pass\n",
    "    doc_vector = temp.mean()\n",
    "    docs_vectors = docs_vectors.append(doc_vector,ignore_index=True)\n",
    "docs_vectors.head()"
   ]
  },
  {
   "cell_type": "code",
   "execution_count": 67,
   "metadata": {},
   "outputs": [
    {
     "data": {
      "text/plain": [
       "0    2\n",
       "1    2\n",
       "2    2\n",
       "3    2\n",
       "4    2\n",
       "dtype: int64"
      ]
     },
     "execution_count": 67,
     "metadata": {},
     "output_type": "execute_result"
    }
   ],
   "source": [
    "docs_vectors.isna().sum().head().head()"
   ]
  },
  {
   "cell_type": "code",
   "execution_count": 68,
   "metadata": {},
   "outputs": [],
   "source": [
    "docs_vectors = docs_vectors.fillna(method='ffill')"
   ]
  },
  {
   "cell_type": "code",
   "execution_count": 69,
   "metadata": {},
   "outputs": [],
   "source": [
    "X = docs_vectors\n",
    "y = df.sentiment.values"
   ]
  },
  {
   "cell_type": "code",
   "execution_count": 145,
   "metadata": {},
   "outputs": [],
   "source": [
    "from sklearn.model_selection import train_test_split\n",
    "X_train, X_test, y_train, y_test = train_test_split(X, y, test_size = 0.30, random_state=100)"
   ]
  },
  {
   "cell_type": "markdown",
   "metadata": {},
   "source": [
    "we cannot use naive bayes with word embeddings. \n",
    "word embeddings can be either +ve or -ve and naive bayes cannot take negetive values"
   ]
  },
  {
   "cell_type": "code",
   "execution_count": 114,
   "metadata": {},
   "outputs": [
    {
     "data": {
      "text/plain": [
       "DecisionTreeClassifier(class_weight=None, criterion='entropy', max_depth=5,\n",
       "            max_features=None, max_leaf_nodes=None,\n",
       "            min_impurity_decrease=0.0, min_impurity_split=None,\n",
       "            min_samples_leaf=1, min_samples_split=2,\n",
       "            min_weight_fraction_leaf=0.0, presort=False, random_state=100,\n",
       "            splitter='best')"
      ]
     },
     "execution_count": 114,
     "metadata": {},
     "output_type": "execute_result"
    }
   ],
   "source": [
    "from sklearn.tree import DecisionTreeClassifier \n",
    "classifier = DecisionTreeClassifier(criterion=\"entropy\", max_depth=5, random_state=100)\n",
    "classifier.fit(X_train, y_train)"
   ]
  },
  {
   "cell_type": "code",
   "execution_count": 154,
   "metadata": {},
   "outputs": [
    {
     "name": "stderr",
     "output_type": "stream",
     "text": [
      "C:\\ProgramData\\Anaconda3\\lib\\site-packages\\sklearn\\linear_model\\logistic.py:433: FutureWarning: Default solver will be changed to 'lbfgs' in 0.22. Specify a solver to silence this warning.\n",
      "  FutureWarning)\n"
     ]
    },
    {
     "data": {
      "text/plain": [
       "LogisticRegression(C=1.0, class_weight=None, dual=False, fit_intercept=True,\n",
       "          intercept_scaling=1, max_iter=150, multi_class='warn',\n",
       "          n_jobs=None, penalty='l2', random_state=None, solver='warn',\n",
       "          tol=0.0001, verbose=0, warm_start=False)"
      ]
     },
     "execution_count": 154,
     "metadata": {},
     "output_type": "execute_result"
    }
   ],
   "source": [
    "from sklearn.linear_model import LogisticRegression \n",
    "classifier = LogisticRegression()\n",
    "classifier.fit(X_train, y_train)"
   ]
  },
  {
   "cell_type": "code",
   "execution_count": 155,
   "metadata": {},
   "outputs": [],
   "source": [
    "y_pred = classifier.predict(X_test)"
   ]
  },
  {
   "cell_type": "code",
   "execution_count": 152,
   "metadata": {},
   "outputs": [],
   "source": [
    "from sklearn.metrics import accuracy_score, confusion_matrix"
   ]
  },
  {
   "cell_type": "code",
   "execution_count": 156,
   "metadata": {},
   "outputs": [
    {
     "data": {
      "text/plain": [
       "0.8526785714285714"
      ]
     },
     "execution_count": 156,
     "metadata": {},
     "output_type": "execute_result"
    }
   ],
   "source": [
    "accuracy_score(y_test,y_pred)"
   ]
  },
  {
   "cell_type": "code",
   "execution_count": 128,
   "metadata": {},
   "outputs": [
    {
     "data": {
      "text/plain": [
       "array([[67, 12],\n",
       "       [11, 59]], dtype=int64)"
      ]
     },
     "execution_count": 128,
     "metadata": {},
     "output_type": "execute_result"
    }
   ],
   "source": [
    "confusion_matrix(y_test,y_pred)"
   ]
  }
 ],
 "metadata": {
  "kernelspec": {
   "display_name": "Python 3",
   "language": "python",
   "name": "python3"
  },
  "language_info": {
   "codemirror_mode": {
    "name": "ipython",
    "version": 3
   },
   "file_extension": ".py",
   "mimetype": "text/x-python",
   "name": "python",
   "nbconvert_exporter": "python",
   "pygments_lexer": "ipython3",
   "version": "3.7.3"
  }
 },
 "nbformat": 4,
 "nbformat_minor": 2
}
